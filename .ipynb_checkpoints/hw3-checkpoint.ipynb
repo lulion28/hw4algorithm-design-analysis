{
 "cells": [
  {
   "cell_type": "markdown",
   "metadata": {},
   "source": [
    "## algorithm design and anlysis-2025 spring  homework 3\n",
    "**Deadline**：2025.5.14\n",
    "\n",
    "**name**:万俊霖\n",
    "\n",
    "\n",
    "note：\n",
    "---\n",
    "1. 带有\\*的题目，申请免上课的同学，必须完成，其他同学选作；\n",
    "2. 请独立完成，如求助了他人或者大模型，请著明，并且不可省略算法分析部分；\n",
    "4. 如若作答有雷同，全部取消成绩；\n",
    "3. 需要书面作答的题目，可以通过引用图片的形式添加，但是注意上传项目时包含所引用的图片的源文件；\n",
    "4. $log_n$ 默认表示$log_2{n}$;"
   ]
  },
  {
   "cell_type": "markdown",
   "metadata": {},
   "source": [
    "## 问题 1  \n",
    "\n",
    "请证明基于比较的排序算法计算复杂度下界为$\\Omega(nlogn)$"
   ]
  },
  {
   "cell_type": "markdown",
   "metadata": {},
   "source": [
    "you can refer a handwritten picture, pleas upload the picture in /fig/xxx.png\n",
    "answer：\n",
    "![h3_p1.png](./fig/h3_p1.png)"
   ]
  },
  {
   "cell_type": "markdown",
   "metadata": {},
   "source": [
    "## 问题 2 \n",
    "\n",
    "构建二叉搜索树\n",
    "\n",
    "> 1. 给定一个数组 [48, 33, 49, 47, 42, 46, 32], 构建一个二叉搜索树存储这些数据，请**绘制**所构建的**二叉搜索树**（标明结点的值）。\n",
    "> 2. 从第1问的二叉搜索树中删除33，请**绘制**删除33后的**二叉搜索树**（标明结点的值）\n",
    "\n",
    "- 推荐使用graphviz包绘制树的结构"
   ]
  },
  {
   "cell_type": "markdown",
   "metadata": {},
   "source": [
    "you can refer a handwritten picture, pleas upload the picture in /fig/xxx.png\n",
    "answer：\n",
    "![h3_p2.png](./fig/h3_p2.png)"
   ]
  },
  {
   "cell_type": "markdown",
   "metadata": {},
   "source": [
    "## 问题 3 \n",
    "\n",
    "> 下面是九门课程的开始和结束时间:\n",
    ">\n",
    "> [(9:00,12:30), (11:00,14:00), (13:00, 14:30), (9:00,10:30),(13:00, 14:30),(14:00,16:30), (15:00,16:30), (15:00,16:30), (9:00,10:30)]\n",
    ">\n",
    "> 请使用贪婪算法为这九门课分配教室，要求在同一天内安排这些课，并且每个教室同一时间只能安排一门课。\n",
    "\n",
    "**请问最少需要几间教室，罗列出每个教室安排的课程**"
   ]
  },
  {
   "cell_type": "markdown",
   "metadata": {},
   "source": [
    "idea：使用贪心算法，将所有课程按照结束时间从小到大排序，\n",
    "初始化教室数量为 ；遍历排序后的课程列表，对于每个课程，检查是否有空闲的教室可以安，即\n",
    "遍历已使用的教室，如果该课程的开始时间晚于当前教室中已安排课程的结束时间，则将该课程安排到该教室，并更新该教室的结束\r\n",
    "如果没有空闲的教室，则增加一个新教室，并将该课程安排到该教室。"
   ]
  },
  {
   "cell_type": "code",
   "execution_count": 1,
   "metadata": {
    "vscode": {
     "languageId": "plaintext"
    }
   },
   "outputs": [
    {
     "name": "stdout",
     "output_type": "stream",
     "text": [
      "最少需要的教室数量：3\n",
      "教室 1: [(9.0, 10.3), (11.0, 14.0), (14.0, 16.3)]\n",
      "教室 2: [(9.0, 10.3), (13.0, 14.3), (15.0, 16.3)]\n",
      "教室 3: [(9.0, 12.3), (13.0, 14.3), (15.0, 16.3)]\n"
     ]
    }
   ],
   "source": [
    "#code：\n",
    "def assign(course, classroom):\n",
    "    \n",
    "    #检查课程是否可以安排到指定教室\n",
    "    return course[0] >= classroom[-1][1]\n",
    "\n",
    "\n",
    "def output(classroom_assignments):\n",
    "\n",
    "    for i, assignments in enumerate(classroom_assignments):\n",
    "        print(f\"教室 {i + 1}: {assignments}\")\n",
    "\n",
    "\n",
    "def schedule(courses):\n",
    "    # 将所有课程按照结束时间从小到大排序\n",
    "    courses.sort(key=lambda x: x[1])\n",
    "\n",
    "    # 初始化教室列表\n",
    "    classrooms = []\n",
    "\n",
    "    # 遍历排序后的课程列表\n",
    "    for course in courses:\n",
    "        # 检查是否有空闲的教室可以安排\n",
    "        assigned = False\n",
    "        for classroom in classrooms:\n",
    "            if assign(course, classroom):\n",
    "                classroom.append(course)\n",
    "                assigned = True\n",
    "                break\n",
    "\n",
    "        # 如果没有空闲的教室，则增加一个新教室\n",
    "        if not assigned:\n",
    "            classrooms.append([course])\n",
    "\n",
    "    # 返回结果\n",
    "    return len(classrooms), classrooms\n",
    "\n",
    "\n",
    "# 例子\n",
    "courses = [(9.00, 12.30), (11.00, 14.00), (13.00, 14.30), (9.00, 10.30), (13.00, 14.30), (14.00, 16.30),\n",
    "           (15.00, 16.30), (15.00, 16.30), (9.00, 10.30)]\n",
    "num_classrooms, classroom_assignments = schedule(courses)\n",
    "\n",
    "print(f\"最少需要的教室数量：{num_classrooms}\")\n",
    "output(classroom_assignments)\n"
   ]
  },
  {
   "cell_type": "markdown",
   "metadata": {},
   "source": [
    "## 问题 4 \n",
    "\n",
    "> 爬楼梯问题：假设爬楼梯时你每次只能爬一阶或者爬两阶，问爬上n阶的楼梯，你一共有多少种方法\n",
    "\n",
    "请设计算法完成该问题，分析算法设计思路，计算时间复杂度，并基于python编程实现"
   ]
  },
  {
   "cell_type": "markdown",
   "metadata": {},
   "source": [
    "idea：先处理边界条件，当楼梯阶数不大于 0 时无可行方法，阶数为 1 时有 1 种方法，阶数为 2 时有 2 种方法。接着采用动态规划，定义二维数组dp[i][j]表示爬到第i阶且上一步走j阶（j为 0 或 1 分别代表上一步走 1 阶或 2 阶）的方法数，并设定初始值。然后从第 3 阶开始，依据状态转移方程更新dp数组，若当前步走 1 阶，方法数为上一阶两种走法的方法数之和；若当前步走 2 阶，方法数为上两步走 1 阶的方法数。最后将上一步走 1 阶和走 2 阶到达第n阶的方法数相加得到总方法数。"
   ]
  },
  {
   "cell_type": "code",
   "execution_count": 2,
   "metadata": {},
   "outputs": [
    {
     "name": "stdin",
     "output_type": "stream",
     "text": [
      "请输入楼梯的阶数n:  4\n"
     ]
    },
    {
     "name": "stdout",
     "output_type": "stream",
     "text": [
      "爬到第4阶的方法数: 4\n"
     ]
    }
   ],
   "source": [
    "# add your code here\n",
    "# your algorithm time complexity is: O(n)\n",
    "def climb(n):\n",
    "    if n <= 0:\n",
    "        return 0  # 如果楼梯阶数小于等于 0，没有方法可以到达，返回 0\n",
    "    if n == 1:\n",
    "        return 1  # 如果楼梯阶数为 1，只有一种方法，即一次走 1 阶，返回 1\n",
    "    if n == 2:\n",
    "        return 2  # 如果楼梯阶数为 2，有两种方法，一次走 2 阶或者分两次每次走 1 阶，返回 2\n",
    "\n",
    "    # dp[i][j]: 爬到第i阶，上一步走了j阶的方法数\n",
    "    dp = [[0, 0] for _ in range(n + 1)]\n",
    "\n",
    "    # 初始条件\n",
    "    dp[1][0] = 1  # 爬到第1阶，上一步走了1阶\n",
    "    dp[1][1] = 0  # 爬到第1阶，上一步走了2阶（不可能）\n",
    "    dp[2][0] = 1  # 爬到第2阶，上一步走了1阶\n",
    "    dp[2][1] = 1  # 爬到第2阶，上一步走了2阶\n",
    "\n",
    "    for i in range(3, n + 1):\n",
    "        # 如果上一步走了1阶或2阶，这一步可以走1阶\n",
    "        dp[i][0] = dp[i - 1][0] + dp[i - 1][1]\n",
    "        # 只有上一步走了1阶，这一步才能走2阶\n",
    "        dp[i][1] = dp[i - 2][0]\n",
    "\n",
    "    # 爬到第n阶的总方法数\n",
    "    return dp[n][0] + dp[n][1]\n",
    "\n",
    "\n",
    "# 用户输入\n",
    "try:\n",
    "    n = int(input(\"请输入楼梯的阶数n: \"))\n",
    "    if n < 1:\n",
    "        print(\"请输入一个正整数!\")\n",
    "    else:\n",
    "        result = climb(n)\n",
    "        print(f\"爬到第{n}阶的方法数: {result}\")\n",
    "except ValueError:\n",
    "    print(\"输入无效！请输入一个正整数。\")"
   ]
  },
  {
   "cell_type": "markdown",
   "metadata": {},
   "source": [
    "## 问题 5 \n",
    "\n",
    "> 0-1背包问题：现在有4块大理石，每个大理石对应的重量和价值使用一个元组表示, 即（重量，价值），4块大理石的重量和价值为：[(5,10), (4,40), (6,30), (3, 50)], 假设你有一辆最大承重为9的小推车，请问使用这个小推车装大理石的最大价值为多少\n",
    "\n",
    "请设计一个算法解决该问题，分析算法设计思路，计算时间复杂度，并基于python编程实现"
   ]
  },
  {
   "cell_type": "markdown",
   "metadata": {},
   "source": [
    "idea：该问题使用动态规划算法。首先定义状态dp[i][w]，代表在前i个物品中选择且背包容量为w时的最大总价值。状态转移方程方面，若不选第i个物品，dp[i][w]等于dp[i - 1][w]；若选择第i个物品（需满足w >= weight[i] ），则dp[i][w]取dp[i - 1][w]与dp[i - 1][w - weight[i]] + value[i]中的较大值。初始化时，当没有物品（dp[0][w] ）或背包容量为 0（dp[i][0] ），总价值为 0 。计算顺序是从i = 1到物品总数n ，再从w = 1到背包总容量W ，依次计算dp[i][w] 。最终，dp[n][W]就是能得到的最大总价值。最大总价值。"
   ]
  },
  {
   "cell_type": "code",
   "execution_count": 5,
   "metadata": {},
   "outputs": [
    {
     "name": "stdout",
     "output_type": "stream",
     "text": [
      "最大总价值: 90\n"
     ]
    }
   ],
   "source": [
    "# add your code here\n",
    "# your algorithm time complexity is:O(n*W)，n 是物品数量，W 是背包容量\n",
    "def knapsack(capacity, weights, values, n):\n",
    "\n",
    "    # 初始化dp表格\n",
    "    dp = [[0 for _ in range(capacity + 1)] for _ in range(n + 1)]\n",
    "\n",
    "    # 填充dp表格\n",
    "    for i in range(1, n + 1):\n",
    "        # 循环遍历背包容量\n",
    "        for w in range(1, capacity + 1):\n",
    "            # 获取当前物品的重量\n",
    "            current_weight = weights[i - 1]\n",
    "            # 如果当前物品的重量小于等于当前背包的容量\n",
    "            if current_weight <= w:\n",
    "                # 考虑放或不放当前物品，取两者中的最大值\n",
    "                dp[i][w] = max(dp[i - 1][w], dp[i - 1][w - current_weight] + values[i - 1])\n",
    "            else:\n",
    "                # 如果当前物品的重量大于当前背包的容量，不能放这个物品,那么最大价值就等于前 i - 1 个物品在当前容量下的最大价值\n",
    "                dp[i][w] = dp[i - 1][w]\n",
    "\n",
    "    return dp[n][capacity]\n",
    "\n",
    "# 例子\n",
    "stones = [(5, 10), (4, 40), (6, 30), (3, 50)]\n",
    "capacity = 9\n",
    "weights = [stone[0] for stone in stones]\n",
    "values = [stone[1] for stone in stones]\n",
    "n = len(stones)\n",
    "\n",
    "# 计算最大价值\n",
    "max_value = knapsack(capacity, weights, values, n)\n",
    "print(\"最大总价值:\", max_value) "
   ]
  },
  {
   "cell_type": "markdown",
   "metadata": {},
   "source": [
    "## 问题 6 \n",
    "给定 `n` 个非负整数表示每个宽度为 `1` 的柱子的高度图，计算按此排列的柱子，下雨之后能接多少雨水。\n",
    "\n",
    "\n",
    "\n",
    "<div style=\"text-align:center;width:800px;\"> <img alt=\"\" src=\"./fig/hw3q6.png\"> </div>\n",
    "\n",
    "请分析算法设计思路，计算时间复杂度，并基于python编程实现"
   ]
  },
  {
   "cell_type": "markdown",
   "metadata": {},
   "source": [
    "idea：算法采用动态规划的思路，通过预处理每个位置的左右最大高度来高效计算雨水量。先从左向右扫描数组，记录每个位置左侧的最大高度，第i根柱子左侧最高的柱子就等于第i-1根柱子与第i-1根柱子前最高的柱子中较高的一根，也就是max_left[i] = Math.max(max_left[i-1],height[i-1])；再从右向左扫描，记录右侧的最大高度。对于每个位置，能接住的雨水量由左右两侧最大高度的较小值决定，如果这个值大于当前高度，则差值即为该位置的积水量。"
   ]
  },
  {
   "cell_type": "code",
   "execution_count": 9,
   "metadata": {},
   "outputs": [
    {
     "name": "stdout",
     "output_type": "stream",
     "text": [
      "6\n",
      "9\n"
     ]
    }
   ],
   "source": [
    "# add your code here\n",
    "# your algorithm time complexity is:O(n)\n",
    "class Solution:\n",
    "    def trap(self, height):\n",
    "\n",
    "        if not height or len(height) < 3:\n",
    "            return 0\n",
    "\n",
    "        n = len(height)\n",
    "        sum_water = 0\n",
    "        max_left = [0] * n  # 存储每个位置左侧的最高柱子\n",
    "        max_right = [0] * n  # 存储每个位置右侧的最高柱子\n",
    "\n",
    "        # 计算每个位置左侧的最高柱子\n",
    "        for i in range(1, n):\n",
    "            max_left[i] = max(max_left[i - 1], height[i - 1])\n",
    "\n",
    "        # 计算每个位置右侧的最高柱子\n",
    "        for i in range(n - 2, -1, -1):\n",
    "            max_right[i] = max(max_right[i + 1], height[i + 1])\n",
    "\n",
    "        # 计算每个位置能接住的雨水量\n",
    "        for i in range(1, n - 1):\n",
    "            min_height = min(max_left[i], max_right[i])\n",
    "            if min_height > height[i]:\n",
    "                sum_water += min_height - height[i]\n",
    "\n",
    "        return sum_water\n",
    "\n",
    "\n",
    "# 测试用例\n",
    "solution = Solution()\n",
    "print(solution.trap([0, 1, 0, 2, 1, 0, 1, 3, 2, 1, 2, 1]))\n",
    "print(solution.trap([4, 2, 0, 3, 2, 5]))\n"
   ]
  },
  {
   "cell_type": "markdown",
   "metadata": {},
   "source": [
    "## 问题 7 \n",
    "\n",
    "**股票投资组合优化**： 假设你是一位投资者，想要在不同的股票中分配你的资金，以最大化你的投资回报。每只股票都有不同的预期收益率和风险。你的目标是选择一些股票，使得总投资金额不超过你的预算，并且预期收益最大化。\n",
    "\n",
    "在这个情况下，你可以将每只股票视为一个“物品”，其重量为投资金额，价值为预期收益率。然后，你可以使用分级背包问题的方法来选择部分股票，以便在预算内获得最大的预期收益。\n",
    "\n",
    "以下是一个简化的例子：\n",
    "\n",
    "假设你有以下三只股票可供选择：\n",
    "\n",
    "1. 股票 A：投资金额 5000 美元，预期收益率 10%\n",
    "2. 股票 B：投资金额 3000 美元，预期收益率 8%\n",
    "3. 股票 C：投资金额 2000 美元，预期收益率 12%\n",
    "\n",
    "请设计算法找到最优投资方案，分析算法设计思路，计算时间复杂度，并基于python编程实现"
   ]
  },
  {
   "cell_type": "markdown",
   "metadata": {},
   "source": [
    "idea：采用动态规划中的0-1背包问题解法，将每只股票视为一个物品，其重量为投资金额，价值为预期收益金额。通过构建二维DP数组dp[i][w]记录前i只股票在预算w下的最大收益，其中状态转移方程为：若当前股票可投资（w >= weights[i-1]），则比较投资与不投资的收益取最大值；否则直接继承不投资的结果。最终通过逆向回溯DP数组确定具体的投资方案。在该问题中，假设预算为10000。"
   ]
  },
  {
   "cell_type": "code",
   "execution_count": 12,
   "metadata": {},
   "outputs": [
    {
     "name": "stdout",
     "output_type": "stream",
     "text": [
      "最大预期收益金额: 980.0\n",
      "选择投资的股票编号: [2, 1, 0]\n"
     ]
    }
   ],
   "source": [
    "# add your code here\n",
    "# your algorithm time complexity is:O(nW)，n表示股票，W表示预算\n",
    "def stock(weights, rates, W):\n",
    "    # 计算预期收益金额\n",
    "    values = [weights[i] * rates[i] for i in range(len(weights))]\n",
    "    n = len(weights)\n",
    "\n",
    "    # 初始化DP数组\n",
    "    dp = [[0] * (W + 1) for _ in range(n + 1)]\n",
    "\n",
    "    # 动态规划求解\n",
    "    for i in range(1, n + 1):\n",
    "        for w in range(W + 1):\n",
    "            if w >= weights[i - 1]:\n",
    "                dp[i][w] = max(dp[i - 1][w], dp[i - 1][w - weights[i - 1]] + values[i - 1])\n",
    "            else:\n",
    "                dp[i][w] = dp[i - 1][w]\n",
    "\n",
    "    # 回溯找出选择了哪些股票\n",
    "    w = W\n",
    "    selected = []\n",
    "    for i in range(n, 0, -1):\n",
    "        if dp[i][w] != dp[i - 1][w]:\n",
    "            selected.append(i - 1)\n",
    "            w -= weights[i - 1]\n",
    "\n",
    "    return dp[n][W], selected\n",
    "\n",
    "\n",
    "# 测试用例\n",
    "weights = [5000, 3000, 2000]  # 投资金额\n",
    "rates = [0.10, 0.08, 0.12]    # 收益率\n",
    "W = 10000  # 总预算\n",
    "\n",
    "max_profit, selected_stocks = stock(weights, rates, W)\n",
    "print(\"最大预期收益金额:\", max_profit)\n",
    "print(\"选择投资的股票编号:\", selected_stocks)"
   ]
  },
  {
   "cell_type": "markdown",
   "metadata": {},
   "source": [
    "## 问题 8\n",
    "\n",
    "给你二叉搜索树的根节点 root ，该树中的恰好两个节点的值被错误地交换。请在不改变其结构的情况下，恢复这棵树 。设计算法解决该问题，分析算法设计思路，计算时间复杂度，并基于python编程实现\n",
    "\n",
    "e.g.:\n",
    "---\n",
    "1.\n",
    "\n",
    "<div style=\"text-align:center;width:200px;\"> <img alt=\"\" src=\"./fig/hw3q9-1.jpg\"> </div>\n",
    "输入：root = [1,3,null,null,2]， 输出为：[3,1,null,null,2]， \n",
    "\n",
    "解释：3 不能是 1 的左孩子，因为 3 > 1 。交换 1 和 3 使二叉搜索树有效。\n",
    "\n",
    "2.\n",
    "\n",
    " <div style=\"text-align:center;width:200px;\"> <img alt=\"\" src=\"./fig/hw3q9-1.jpg\"> </div>\n",
    "输入： root=[3,1,4,null,null,2]， 输出为：[2,1,4,null,null,3]\n",
    "\n",
    "解释：2 不能在 3 的右子树中，因为 2 < 3 。交换 2 和 3 使二叉搜索树有效。"
   ]
  },
  {
   "cell_type": "markdown",
   "metadata": {},
   "source": [
    "idea：\n",
    "定义一个变量pred其指向当前节点的上一个节点，该变量一开始是指向root节点的。之后遍历这个二叉树。如果发现当前节点的元素是小于上一个节点的，那么说明定位到了错误的节点。用两个指针保存当前节点和前一个节点的地址。之后遍历完，用刚刚的两个指针把这两个节点的val值交换就可以。"
   ]
  },
  {
   "cell_type": "code",
   "execution_count": 16,
   "metadata": {},
   "outputs": [
    {
     "name": "stdout",
     "output_type": "stream",
     "text": [
      "第一棵树恢复后输出: [3, 1, None, None, 2]\n",
      "第二棵树恢复后输出: [2, 1, 4, None, None, 3]\n"
     ]
    }
   ],
   "source": [
    "# add your code here\n",
    "# your algorithm time complexity is:O(n)，n指二叉树节点\n",
    "# 定义二叉树节点类\n",
    "class TreeNode:\n",
    "    def __init__(self, val=0, left=None, right=None):\n",
    "        self.val = val\n",
    "        self.left = left\n",
    "        self.right = right\n",
    "\n",
    "\n",
    "class Solution:\n",
    "    def recoverTree(self, root):\n",
    "        stack = []\n",
    "        x = None  # 第一个需要交换的节点\n",
    "        y = None\n",
    "        pred = None  # 遍历中的前一个节点\n",
    "\n",
    "        while stack or root:\n",
    "            while root:  # 不断将当前节点及其左子节点压入栈中\n",
    "                stack.append(root)\n",
    "                root = root.left\n",
    "\n",
    "            root = stack.pop()\n",
    "            if pred and root.val < pred.val:  # 如果前一个节点存在，并且当前节点的值小于前一个节点的值,说明这两个节点的顺序可能被交换了\n",
    "                y = root  # 记录第二个可能需要交换的节点\n",
    "                if x is None:  # 如果第一个需要交换的节点还没找到\n",
    "                    x = pred  # 记录第一个需要交换的节点\n",
    "                else:\n",
    "                    break\n",
    "\n",
    "            pred = root\n",
    "            root = root.right\n",
    "\n",
    "        # 交换两个错误节点的值\n",
    "        x.val, y.val = y.val, x.val\n",
    "\n",
    "\n",
    "# 将二叉树转换为包含 null 的列表\n",
    "def tree_to_list(root):\n",
    "    if not root:\n",
    "        return []\n",
    "    result = []\n",
    "    queue = [root]\n",
    "    while queue:\n",
    "        node = queue.pop(0)\n",
    "        if node:\n",
    "            result.append(node.val)\n",
    "            queue.append(node.left)\n",
    "            queue.append(node.right)\n",
    "        else:\n",
    "            result.append(None)\n",
    "    # 去除列表末尾多余的 null\n",
    "    while result and result[-1] is None:\n",
    "        result.pop()\n",
    "    return result\n",
    "\n",
    "\n",
    "# 根据列表构建二叉树\n",
    "def list_to_tree(lst):\n",
    "    if not lst:\n",
    "        return None\n",
    "    root = TreeNode(lst[0])\n",
    "    queue = [root]\n",
    "    i = 1\n",
    "    while queue and i < len(lst):\n",
    "        node = queue.pop(0)\n",
    "        if lst[i] is not None:\n",
    "            node.left = TreeNode(lst[i])\n",
    "            queue.append(node.left)\n",
    "        i += 1\n",
    "        if i < len(lst) and lst[i] is not None:\n",
    "            node.right = TreeNode(lst[i])\n",
    "            queue.append(node.right)\n",
    "        i += 1\n",
    "    return root\n",
    "\n",
    "\n",
    "# 测试用例\n",
    "input_list1 = [1, 3, None, None, 2]\n",
    "root1 = list_to_tree(input_list1)\n",
    "solution = Solution()\n",
    "solution.recoverTree(root1)\n",
    "output_list1 = tree_to_list(root1)\n",
    "print(\"第一棵树恢复后输出:\", output_list1)\n",
    "\n",
    "input_list2 = [3, 1, 4, None, None, 2]\n",
    "root2 = list_to_tree(input_list2)\n",
    "solution.recoverTree(root2)\n",
    "output_list2 = tree_to_list(root2)\n",
    "print(\"第二棵树恢复后输出:\", output_list2)"
   ]
  },
  {
   "cell_type": "markdown",
   "metadata": {},
   "source": [
    "## 问题 9  \n",
    "\n",
    "给你一个二叉树的根节点 root ，树中每个节点都存放有一个 0 到 9 之间的数字。每条从根节点到叶节点的路径都代表一个数字：\n",
    "\n",
    "> 例如，从根节点到叶节点的路径 1 -> 2 -> 3 表示数字 123 。\n",
    "\n",
    "设计一个算法计算从根节点到叶节点生成的所有数字之和 ，分析算法设计思路，计算时间复杂度，并基于python编程实现\n",
    "\n",
    "叶节点:是指没有子节点的节点。\n",
    "\n",
    "e.g.:\n",
    "---\n",
    "1.\n",
    "\n",
    " <div style=\"text-align:center;width:200px;\"> <img alt=\"figure\" src=\"./fig/hw3q10-1.jpg\"> </div>\n",
    "\n",
    " 输入：root = [1,2,3], 输出：25\n",
    "\n",
    "解释：从根到叶子节点路径 1->2 代表数字 12，1->3 代表数字 13，因此和为 12 + 13 = 25 。\n",
    "\n",
    "2.\n",
    "\n",
    " <div style=\"text-align:center;width:200px;\"> <img alt=\"figure\" src=\"./fig/hw3q10-2.jpg\"> </div>\n",
    "\n",
    " 输入：root = [4,9,0,5,1], 输出：1026\n",
    "\n",
    "解释：从根到叶子节点路径 4->9->5 代表数字 495，4->9->1 代表数字 491，4->0 代表数字 40。因此和为 495 + 491 + 40 = 1026 。"
   ]
  },
  {
   "cell_type": "markdown",
   "metadata": {},
   "source": [
    "idea：\n",
    "算法采用深度优先搜索 DFS：\n",
    "\r\n",
    "递归遍历： 从根节点开始，递归地遍历二叉树。\r\n",
    "路径构建： 在递归过程中，维护一个当前路径的数字。\r\n",
    "叶子节点判断： 当到达叶子节点时，将当前路径的数字加到总和中。\r\n",
    "回溯： 在递归返回时，需要将当前节点从路径中移除，以便探索其他路径。"
   ]
  },
  {
   "cell_type": "code",
   "execution_count": 19,
   "metadata": {},
   "outputs": [
    {
     "name": "stdout",
     "output_type": "stream",
     "text": [
      "第一个和为: 25\n",
      "第二个和为: 1026\n"
     ]
    }
   ],
   "source": [
    "# add your code here\n",
    "# your algorithm time complexity is:O(n),n为二叉树节点数\n",
    "class TreeNode:\n",
    "    def __init__(self, val=0, left=None, right=None):\n",
    "        self.val = val\n",
    "        self.left = left\n",
    "        self.right = right\n",
    "\n",
    "def sum(root):\n",
    "\n",
    "    total = 0  # 所有路径数字的总和\n",
    "\n",
    "    def dfs(node, current_number):  # 深度优先搜索的辅助函数\n",
    "        nonlocal total\n",
    "\n",
    "        if not node:\n",
    "            return\n",
    "\n",
    "        # 构建当前路径的数字\n",
    "        current_number = current_number * 10 + node.val\n",
    "\n",
    "        # 如果是叶子节点，则将当前数字加到总和中\n",
    "        if not node.left and not node.right:\n",
    "            total += current_number\n",
    "            return\n",
    "\n",
    "        # 递归遍历左右子树\n",
    "        dfs(node.left, current_number)\n",
    "        dfs(node.right, current_number)\n",
    "\n",
    "    dfs(root, 0)\n",
    "    return total\n",
    "\n",
    "# 示例1\n",
    "root1 = TreeNode(1, TreeNode(2), TreeNode(3))\n",
    "print(\"第一个和为:\", sum(root1))\n",
    "\n",
    "# 示例2\n",
    "root2 = TreeNode(4, TreeNode(9, TreeNode(5), TreeNode(1)), TreeNode(0))\n",
    "print(\"第二个和为:\", sum(root2))\n"
   ]
  },
  {
   "cell_type": "markdown",
   "metadata": {},
   "source": [
    "## 问题 10  \n",
    "\n",
    "给你一个二叉树的根节点 root ， 检查它是否轴对称。\n",
    "\n",
    "1. 分析算法设计思路，计算时间复杂度，并基于python编程实现\n",
    "2. \\* 设计使用递归和迭代两种方法解决这个问题，计算时间复杂度，并基于python编程实现\n",
    "\n",
    "e.g.:\n",
    "---\n",
    "1.\n",
    "\n",
    " <div style=\"text-align:center;width:200px;\"> <img alt=\"figure\" src=\"./fig/hw3q11-1.png\"> </div>\n",
    "\n",
    " 输入：root = [1,2,2,3,4,4,3]， 输出：true\n",
    "\n",
    "解释：二叉树 [1,2,2,3,4,4,3] 对称。\n",
    "\n",
    "2.\n",
    "\n",
    " <div style=\"text-align:center;width:200px;\"> <img alt=\"figure\" src=\"./fig/hw3q11-2.png\"> </div>\n",
    "\n",
    " 输入：root = [1,2,2,null,3,null,3]， 输出：false"
   ]
  },
  {
   "cell_type": "markdown",
   "metadata": {},
   "source": [
    "idea：\n",
    "对于二叉树，如果它是按照层次顺序存储在数组中，那么对称性可以通过数学规律来检查。如果一个二叉树是对称的，那么根节点与自身对称;对于层次为n的任意节点，第i个节点应与该层最后一个节点向前数第i个节点对称（值相同）。"
   ]
  },
  {
   "cell_type": "code",
   "execution_count": 3,
   "metadata": {},
   "outputs": [
    {
     "name": "stdout",
     "output_type": "stream",
     "text": [
      "输入: root = [1, 2, 2, 3, 4, 4, 3], 输出: True\n",
      "输入: root = [1, 2, 2, None, 3, None, 3], 输出: False\n"
     ]
    }
   ],
   "source": [
    "# add your code here\n",
    "# your algorithm time complexity is:O(n),n是二叉树节点数\n",
    "def is_symmetric(root):\n",
    "    if not root:\n",
    "        return True\n",
    "\n",
    "    # 移除None值并转换成数值列表\n",
    "    nodes = []\n",
    "    for node in root:\n",
    "        if node is not None and node != 'null':\n",
    "            nodes.append(node)\n",
    "        else:\n",
    "            nodes.append(None)\n",
    "\n",
    "    # 计算树的高度\n",
    "    height = 0\n",
    "    total_nodes = len(nodes)\n",
    "    while (2 ** height - 1) < total_nodes:\n",
    "        height += 1\n",
    "\n",
    "    # 逐层检查对称性\n",
    "    for level in range(height):\n",
    "        start_idx = 2 ** level - 1\n",
    "        end_idx = min(2 ** (level + 1) - 1, total_nodes)\n",
    "        level_nodes = nodes[start_idx:end_idx]\n",
    "\n",
    "        # 检查当前层是否对称\n",
    "        n = len(level_nodes)\n",
    "        for i in range(n // 2):\n",
    "            if level_nodes[i] != level_nodes[n - 1 - i]:\n",
    "                return False\n",
    "\n",
    "    return True\n",
    "\n",
    "\n",
    "# 测试示例1\n",
    "root1 = [1, 2, 2, 3, 4, 4, 3]\n",
    "print(f\"输入: root = {root1}, 输出: {is_symmetric(root1)}\")\n",
    "\n",
    "# 测试示例2\n",
    "root2 = [1, 2, 2, None, 3, None, 3]\n",
    "print(f\"输入: root = {root2}, 输出: {is_symmetric(root2)}\")"
   ]
  },
  {
   "cell_type": "markdown",
   "metadata": {},
   "source": [
    "idea:以两棵子树的根节点 node1 和 node2 作为输入，先判断两节点是否都为空，若都为空则此层对称返回 True；若一个为空一个不为空，直接返回 False 表明不对称；若两节点都不为空但值不相等，也返回 False。当两节点都不为空且值相等时，通过递归分别检查 node1 的左子树与 node2 的右子树（外侧子树）、node1 的右子树与 node2 的左子树（内侧子树）是否对称，只有当外侧和内侧子树都对称时，才返回 True，以此层层递归，实现对整棵二叉树对称性的判断。同时在根节点非空时，调用 check 方法检查根节点的左右子树是否对称来确定整棵树的对称性 。"
   ]
  },
  {
   "cell_type": "code",
   "execution_count": 27,
   "metadata": {},
   "outputs": [
    {
     "name": "stdout",
     "output_type": "stream",
     "text": [
      "True\n",
      "False\n"
     ]
    }
   ],
   "source": [
    "# add your code here\n",
    "# your algorithm time complexity is:O(n),n是二叉树节点数\n",
    "# 定义二叉树节点类\n",
    "class TreeNode:\n",
    "    def __init__(self, val=0, left=None, right=None):\n",
    "        self.val = val\n",
    "        self.left = left\n",
    "        self.right = right\n",
    "\n",
    "class Solution:\n",
    "    \"\"\"\n",
    "    使用递归算法\n",
    "    \"\"\"\n",
    "    def check(self, node1, node2):\n",
    "        # 都为空\n",
    "        if not node1 and not node2:\n",
    "            return True\n",
    "        # 有一个不为空\n",
    "        if (not node1 and node2) or (node1 and not node2):\n",
    "            return False\n",
    "        # 都不为空，但是 val 不同\n",
    "        if node1.val != node2.val:\n",
    "            return False\n",
    "        # 都不为空，但是 val 相同，还要看这两棵树是否是镜像的，要分别看外侧和内侧\n",
    "        outside = self.check(node1.left, node2.right)\n",
    "        inside = self.check(node1.right, node2.left)\n",
    "        return outside and inside\n",
    "\n",
    "    def isSymmetric(self, root):\n",
    "        if not root:\n",
    "            return True\n",
    "        return self.check(root.left, root.right)\n",
    "\n",
    "# 根据列表构建二叉树\n",
    "def list_to_tree(lst):\n",
    "    if not lst:\n",
    "        return None\n",
    "    root = TreeNode(lst[0])\n",
    "    queue = [root]\n",
    "    i = 1\n",
    "    while queue and i < len(lst):\n",
    "        node = queue.pop(0)\n",
    "        if lst[i] is not None:\n",
    "            node.left = TreeNode(lst[i])\n",
    "            queue.append(node.left)\n",
    "        i += 1\n",
    "        if i < len(lst) and lst[i] is not None:\n",
    "            node.right = TreeNode(lst[i])\n",
    "            queue.append(node.right)\n",
    "        i += 1\n",
    "    return root\n",
    "\n",
    "# 测试用例 1\n",
    "root1 = list_to_tree([1, 2, 2, 3, 4, 4, 3])\n",
    "solution = Solution()\n",
    "result1 = solution.isSymmetric(root1)\n",
    "print(result1)\n",
    "\n",
    "# 测试用例 2\n",
    "root2 = list_to_tree([1, 2, 2, None, 3, None, 3])\n",
    "result2 = solution.isSymmetric(root2)\n",
    "print(result2)"
   ]
  },
  {
   "cell_type": "markdown",
   "metadata": {},
   "source": [
    "idea:若根节点为空，直接认定二叉树对称并返回 True。然后将根节点的左子节点和右子节点依次压入栈中。在循环中，只要栈不为空，就从栈中弹出两个节点，记为 node1 和 node2 进行检查。若两个节点都为空，则表明这部分子树对称，继续下一轮循环；若一个为空一个不为空，或两个节点都不为空但值不相等，都说明二叉树不对称，直接返回 False。当两个节点都不为空且值相等时，将 node1 的左子节点和 node2 的右子节点、node1 的右子节点和 node2 的左子节点依次压入栈中，以便后续检查它们的对称性。如此循环，直到栈为空时，若都未返回 False，则说明整棵二叉树是对称的，返回 True。"
   ]
  },
  {
   "cell_type": "code",
   "execution_count": 33,
   "metadata": {},
   "outputs": [
    {
     "name": "stdout",
     "output_type": "stream",
     "text": [
      "True\n",
      "False\n"
     ]
    }
   ],
   "source": [
    "# add your code here\n",
    "# your algorithm time complexity is:O(n),n是二叉树节点数\n",
    "# 定义二叉树节点类\n",
    "class TreeNode:\n",
    "    def __init__(self, val=0, left=None, right=None):\n",
    "        self.val = val\n",
    "        self.left = left\n",
    "        self.right = right\n",
    "\n",
    "\n",
    "class Solution:\n",
    "    \"\"\"\n",
    "    使用迭代算法\n",
    "    \"\"\"\n",
    "    def isSymmetric(self, root):\n",
    "        if not root:\n",
    "            return True\n",
    "\n",
    "        stack = []\n",
    "        stack.append(root.left)\n",
    "        stack.append(root.right)\n",
    "\n",
    "        # 只要栈不为空，就继续处理栈中的节点\n",
    "        while stack:\n",
    "            node1 = stack.pop()  # 从栈中弹出两个节点，分别记为 node1 和 node2\n",
    "            node2 = stack.pop()\n",
    "\n",
    "            if not node1 and not node2:  # 如果两个节点都为空，说明这部分子树是对称的，继续下一轮循环\n",
    "                continue\n",
    "            if (not node1 and node2) or (node1 and not node2):   # 如果其中一个节点为空，另一个不为空，那么这棵树不是对称的，返回 False\n",
    "                return False\n",
    "            if node1.val != node2.val:  # 如果两个节点都不为空，但它们的值不相等，那么这棵树不是对称的，返回 False\n",
    "                return False\n",
    "\n",
    "            # 将 node1 的左子节点和 node2 的右子节点压入栈中，检查它们是否对称\n",
    "            stack.append(node1.left)\n",
    "            stack.append(node2.right)\n",
    "            stack.append(node1.right)\n",
    "            stack.append(node2.left)\n",
    "\n",
    "        return True\n",
    "\n",
    "\n",
    "# 根据列表构建二叉树\n",
    "def list_to_tree(lst):\n",
    "    if not lst:\n",
    "        return None\n",
    "    root = TreeNode(lst[0])\n",
    "    queue = [root]\n",
    "    i = 1\n",
    "    while queue and i < len(lst):\n",
    "        node = queue.pop(0)\n",
    "        if lst[i] is not None:\n",
    "            node.left = TreeNode(lst[i])\n",
    "            queue.append(node.left)\n",
    "        i += 1\n",
    "        if i < len(lst) and lst[i] is not None:\n",
    "            node.right = TreeNode(lst[i])\n",
    "            queue.append(node.right)\n",
    "        i += 1\n",
    "    return root\n",
    "\n",
    "\n",
    "# 测试用例 1\n",
    "root1 = list_to_tree([1, 2, 2, 3, 4, 4, 3])\n",
    "solution = Solution()\n",
    "result1 = solution.isSymmetric(root1)\n",
    "print(result1)\n",
    "\n",
    "# 测试用例 2\n",
    "root2 = list_to_tree([1, 2, 2, None, 3, None, 3])\n",
    "result2 = solution.isSymmetric(root2)\n",
    "print(result2)\n"
   ]
  },
  {
   "cell_type": "markdown",
   "metadata": {},
   "source": [
    "## 问题 11  \n",
    "\n",
    "给你一个由 '1'（陆地）和 '0'（水）组成的的二维网格，请你计算网格中岛屿的数量。岛屿总是被水包围，并且每座岛屿只能由水平方向和/或竖直方向上相邻的陆地连接形成。\n",
    "\n",
    "此外，你可以假设该网格的四条边均被水包围。\n",
    "\n",
    "分析算法设计思路，计算时间复杂度，并基于python编程实现\n",
    "\n",
    "e.g.:\n",
    "---\n",
    "1.\n",
    "输入：grid = [\n",
    "\n",
    "    [\"1\",\"1\",\"1\",\"1\",\"0\"],\n",
    "\n",
    "    [\"1\",\"1\",\"0\",\"1\",\"0\"], \n",
    "\n",
    "    [\"1\",\"1\",\"0\",\"0\",\"0\"], \n",
    "\n",
    "    [\"0\",\"0\",\"0\",\"0\",\"0\"]  \n",
    "\n",
    "]\n",
    "\n",
    "输出：1\n",
    "\n",
    "2.\n",
    "输入：grid = [\n",
    "\n",
    "    [\"1\",\"1\",\"0\",\"0\",\"0\"],\n",
    "\n",
    "    [\"1\",\"1\",\"0\",\"0\",\"0\"],\n",
    "\n",
    "    [\"0\",\"0\",\"1\",\"0\",\"0\"],\n",
    "\n",
    "    [\"0\",\"0\",\"0\",\"1\",\"1\"]\n",
    "\n",
    "]\n",
    "\n",
    "输出：3"
   ]
  },
  {
   "cell_type": "markdown",
   "metadata": {},
   "source": [
    "idea:算法使用深度优先搜索 DFS：\r\n",
    "首先： 遍历整个二维网屿： 当遇到一个值为 '1' 的陆地时，说明发现了一个新的然后淹没： 从该陆地开始，使用深度优先搜索（DFS）将与其相连的所有陆地都标记为 '0'，相当于将整个岛。\n",
    "\n",
    "计数： 每发现一个新的岛屿，岛屿数量加 1。"
   ]
  },
  {
   "cell_type": "code",
   "execution_count": 41,
   "metadata": {},
   "outputs": [
    {
     "name": "stdout",
     "output_type": "stream",
     "text": [
      "例1: 1\n",
      "例2: 3\n"
     ]
    }
   ],
   "source": [
    "# add your code here\n",
    "# your algorithm time complexity is: O(mn)，其中m和n分别是网格的行数和列数。\n",
    "def islands(grid):\n",
    "\n",
    "    if not grid:\n",
    "        return 0\n",
    "\n",
    "    rows, cols = len(grid), len(grid[0])\n",
    "    num_islands = 0\n",
    "\n",
    "    def dfs(row, col):\n",
    "        # 检查坐标是否越界或是否为水\n",
    "        if row < 0 or row >= rows or col < 0 or col >= cols or grid[row][col] == '0':\n",
    "            return\n",
    "\n",
    "        # 将当前陆地标记为水\n",
    "        grid[row][col] = '0'\n",
    "\n",
    "        # 递归地淹没相邻的陆地\n",
    "        dfs(row + 1, col)  # 下\n",
    "        dfs(row - 1, col)  # 上\n",
    "        dfs(row, col + 1)  # 右\n",
    "        dfs(row, col - 1)  # 左\n",
    "\n",
    "    # 遍历网格\n",
    "    for i in range(rows):\n",
    "        for j in range(cols):\n",
    "            if grid[i][j] == '1':\n",
    "                num_islands += 1\n",
    "                dfs(i, j)\n",
    "\n",
    "    return num_islands\n",
    "\n",
    "# 示例1\n",
    "grid1 = [\n",
    "    [\"1\",\"1\",\"1\",\"1\",\"0\"],\n",
    "    [\"1\",\"1\",\"0\",\"1\",\"0\"],\n",
    "    [\"1\",\"1\",\"0\",\"0\",\"0\"],\n",
    "    [\"0\",\"0\",\"0\",\"0\",\"0\"]\n",
    "]\n",
    "print(\"例1:\", islands(grid1))\n",
    "\n",
    "# 示例2\n",
    "grid2 = [\n",
    "    [\"1\",\"1\",\"0\",\"0\",\"0\"],\n",
    "    [\"1\",\"1\",\"0\",\"0\",\"0\"],\n",
    "    [\"0\",\"0\",\"1\",\"0\",\"0\"],\n",
    "    [\"0\",\"0\",\"0\",\"1\",\"1\"]\n",
    "]\n",
    "print(\"例2:\", islands(grid2))\n"
   ]
  },
  {
   "cell_type": "code",
   "execution_count": null,
   "metadata": {},
   "outputs": [],
   "source": []
  }
 ],
 "metadata": {
  "kernelspec": {
   "display_name": "Python 3 (ipykernel)",
   "language": "python",
   "name": "python3"
  },
  "language_info": {
   "codemirror_mode": {
    "name": "ipython",
    "version": 3
   },
   "file_extension": ".py",
   "mimetype": "text/x-python",
   "name": "python",
   "nbconvert_exporter": "python",
   "pygments_lexer": "ipython3",
   "version": "3.12.4"
  }
 },
 "nbformat": 4,
 "nbformat_minor": 4
}
