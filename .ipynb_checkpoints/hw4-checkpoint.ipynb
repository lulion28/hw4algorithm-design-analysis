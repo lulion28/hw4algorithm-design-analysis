{
 "cells": [
  {
   "cell_type": "markdown",
   "metadata": {},
   "source": [
    "## algorithm design and anlysis-2025 spring  homework 4\n",
    "**Deadline**：2025.5.14\n",
    "\n",
    "**name**:\n",
    "\n",
    "\n",
    "note：\n",
    "---\n",
    "1. 带有\\*的题目，申请免上课的同学，必须完成，其他同学选作；\n",
    "2. 请独立完成，如求助了他人或者大模型，请著明，并且不可省略算法分析部分；\n",
    "4. 如若作答有雷同，全部取消成绩；\n",
    "3. 需要书面作答的题目，可以通过引用图片的形式添加，但是注意上传项目时包含所引用的图片的源文件；\n",
    "4. $log_n$ 默认表示$log_2{n}$;"
   ]
  },
  {
   "cell_type": "markdown",
   "metadata": {},
   "source": [
    "## 问题 1 \n",
    "**最小生成树（Minimum Spanning Tree）**\n",
    "\n",
    "设  **G**  为一个带权重的连通无向图，且所有边的权重均不相等。令$e_i$ 为权重第 $i$ 小的边。最小生成树（MST）是否必须包含 $e_1$ ? 同理，是否必须包含 $e_2$ 和 $e_3$ ? 若必须包含，请给出证明；否则，请构造反例。需从基本原理论证，不能依赖割引理(cut lemma) 或 Prim/Kruskal算法的正确性。\n"
   ]
  },
  {
   "cell_type": "markdown",
   "metadata": {},
   "source": [
    "answer:\n",
    "![h4_p1.png](./fig/h4_p1.png)"
   ]
  },
  {
   "cell_type": "markdown",
   "metadata": {},
   "source": [
    "## 问题 2 \n",
    "**瓶颈生成树（Bottleneck Spanning Tree）**\n",
    "\n",
    "带有权重的无向图 $G(V,E,w)$ 的瓶颈生成树，表现为：在所有生成树中，最大权重边的权重值最小。即，BST $T$ 最小化瓶颈损失 $c(T)=max_{e \\in T}{w(e)}$。\n",
    "\n",
    "1. 证明 $G$ 的每一个最小生成树（MST）都是瓶颈生成树（BST）\n",
    "2. 设计一个线性时间复杂度的算法：， 对于一个图 $G(V,E,w)$ 和一个整数 $b$，判断图 $ G$ 是否存在一个瓶颈生成树，其最大权重边的权重不超过 $b$，分析算法设计思路，并基于python编程实现。\n",
    "3. 设计一个线性时间复杂度的算法：对于给定的图 $G(V,E,w)$，找到其瓶颈生成树，分析算法设计思路，并基于python编程实现。"
   ]
  },
  {
   "cell_type": "markdown",
   "metadata": {},
   "source": [
    "answer:\n",
    "![h4_p2.png](./fig/h4_p2.png)"
   ]
  },
  {
   "cell_type": "markdown",
   "metadata": {},
   "source": [
    "idea：（借助了大模型）首先过滤边创建子图G'：遍历图G中的所有边；只保留权重≤b的边，构建子图G'。然后检查连通性：对子图G'执行深度优先搜索(DFS)或广度优先搜索(BFS)；从任意顶点开始搜索，检查是否能访问所有顶点。最后判断结果：如果G'是连通的(所有顶点都被访问)，返回True；否则返回False。"
   ]
  },
  {
   "cell_type": "code",
   "execution_count": 21,
   "metadata": {},
   "outputs": [
    {
     "name": "stdout",
     "output_type": "stream",
     "text": [
      "b = 1: 不存在瓶颈生成树\n",
      "b = 2: 不存在瓶颈生成树\n",
      "b = 3: 不存在瓶颈生成树\n",
      "b = 4: 存在瓶颈生成树\n",
      "b = 5: 存在瓶颈生成树\n"
     ]
    }
   ],
   "source": [
    "# add your code here\n",
    "# algorithm of the liear time complexity :O(V+E)\n",
    "from collections import defaultdict, deque\n",
    "\n",
    "\n",
    "def has_bottleneck_spanning_tree(graph, b):\n",
    "\n",
    "    # 步骤1: 创建子图G'，只包含权重不超过b的边\n",
    "    filtered_graph = defaultdict(dict)\n",
    "\n",
    "    # 收集所有的顶点\n",
    "    vertices = set()\n",
    "    for u in graph:\n",
    "        vertices.add(u)\n",
    "        for v in graph[u]:\n",
    "            vertices.add(v)\n",
    "\n",
    "    # 添加权重不超过b的边\n",
    "    for u in graph:\n",
    "        for v, weight in graph[u].items():\n",
    "            if weight <= b:\n",
    "                filtered_graph[u][v] = weight\n",
    "                filtered_graph[v][u] = weight  # 确保无向图的对称性\n",
    "\n",
    "    # 步骤2: 使用BFS检查子图G'的连通性\n",
    "    if not vertices:\n",
    "        return True  # 空图视为连通\n",
    "\n",
    "    # 从任意顶点开始BFS\n",
    "    start_vertex = next(iter(vertices))\n",
    "    visited = {start_vertex}\n",
    "    queue = deque([start_vertex])\n",
    "\n",
    "    while queue:\n",
    "        node = queue.popleft()\n",
    "        for neighbor in filtered_graph[node]:\n",
    "            if neighbor not in visited:\n",
    "                visited.add(neighbor)\n",
    "                queue.append(neighbor)\n",
    "\n",
    "    # 步骤3: 判断是否所有顶点都被访问到\n",
    "    return len(visited) == len(vertices)\n",
    "\n",
    "\n",
    "# 测试用例\n",
    "if __name__ == \"__main__\":\n",
    "    # 例图:\n",
    "    # 1 -- (1) -- 2\n",
    "    # | \\         |\n",
    "    # |  \\        |\n",
    "    # (4)  (3)    (2)\n",
    "    # |      \\    |\n",
    "    # |       \\   |\n",
    "    # 3 -- (5) -- 4\n",
    "\n",
    "    graph = {\n",
    "        1: {2: 1, 3: 4, 4: 3},\n",
    "        2: {1: 1, 4: 2},\n",
    "        3: {1: 4, 4: 5},\n",
    "        4: {1: 3, 2: 2, 3: 5}\n",
    "    }\n",
    "\n",
    "    # 测试不同的b值\n",
    "    for test_b in range(1, 6):\n",
    "        result = has_bottleneck_spanning_tree(graph, test_b)\n",
    "        print(f\"b = {test_b}: {'存在' if result else '不存在'}瓶颈生成树\")"
   ]
  },
  {
   "cell_type": "markdown",
   "metadata": {},
   "source": [
    "idea：（借助了大模型）使用桶排序将图中的边按权重从小到大排序；使用贪心策略按权重递增顺序考虑边，优先选择权重小的边加入生成树，这保证了最终生成树的最大权重边是可能的最小值；使用并查集数据结构高效地检查连通性，确保不形成环；利用基数排序实现线性总时间复杂度。"
   ]
  },
  {
   "cell_type": "code",
   "execution_count": 23,
   "metadata": {},
   "outputs": [
    {
     "name": "stdout",
     "output_type": "stream",
     "text": [
      "瓶颈生成树的边:\n",
      "1 -- 1 -- 2\n",
      "2 -- 2 -- 4\n",
      "1 -- 4 -- 3\n",
      "瓶颈值: 4\n"
     ]
    }
   ],
   "source": [
    "# add your code here\n",
    "# algorithm of the liear time complexity :O(V+E)\n",
    "def find_bottleneck_spanning_tree(graph):\n",
    "    \n",
    "    # 收集所有边并按权重排序（使用桶排序实现线性时间）\n",
    "    edges = []\n",
    "    vertices = set()\n",
    "\n",
    "    # 收集边和顶点\n",
    "    for u in graph:\n",
    "        vertices.add(u)\n",
    "        for v, weight in graph[u].items():\n",
    "            if u < v:  # 避免重复添加无向边\n",
    "                edges.append((u, v, weight))\n",
    "                vertices.add(v)\n",
    "\n",
    "    # 找出权重的最大值，为桶排序做准备\n",
    "    if not edges:\n",
    "        return []  # 空图情况\n",
    "\n",
    "    max_weight = max(edge[2] for edge in edges)\n",
    "\n",
    "    # 执行桶排序\n",
    "    buckets = [[] for _ in range(max_weight + 1)]\n",
    "    for edge in edges:\n",
    "        buckets[edge[2]].append(edge)\n",
    "\n",
    "    sorted_edges = []\n",
    "    for bucket in buckets:\n",
    "        sorted_edges.extend(bucket)\n",
    "\n",
    "    # 使用并查集实现Kruskal算法\n",
    "    # 初始化并查集\n",
    "    parent = {v: v for v in vertices}\n",
    "    rank = {v: 0 for v in vertices}\n",
    "\n",
    "    def find(x):\n",
    "        \"\"\"查找x的根节点（带路径压缩）\"\"\"\n",
    "        if parent[x] != x:\n",
    "            parent[x] = find(parent[x])\n",
    "        return parent[x]\n",
    "\n",
    "    def union(x, y):\n",
    "        \"\"\"合并x和y所在的集合（按秩合并）\"\"\"\n",
    "        root_x = find(x)\n",
    "        root_y = find(y)\n",
    "\n",
    "        if root_x == root_y:\n",
    "            return\n",
    "\n",
    "        if rank[root_x] < rank[root_y]:\n",
    "            parent[root_x] = root_y\n",
    "        else:\n",
    "            parent[root_y] = root_x\n",
    "            if rank[root_x] == rank[root_y]:\n",
    "                rank[root_x] += 1\n",
    "\n",
    "    # 构建瓶颈生成树\n",
    "    mst_edges = []\n",
    "    for u, v, weight in sorted_edges:\n",
    "        if find(u) != find(v):  # 检查是否会形成环\n",
    "            union(u, v)\n",
    "            mst_edges.append((u, v, weight))\n",
    "\n",
    "            # 当生成树有|V|-1条边时停止\n",
    "            if len(mst_edges) == len(vertices) - 1:\n",
    "                break\n",
    "\n",
    "    return mst_edges\n",
    "\n",
    "\n",
    "# 测试用例\n",
    "if __name__ == \"__main__\":\n",
    "    # 例图:\n",
    "    # 1 -- (1) -- 2\n",
    "    # | \\         |\n",
    "    # |  \\        |\n",
    "    # (4)  (3)    (2)\n",
    "    # |      \\    |\n",
    "    # |       \\   |\n",
    "    # 3 -- (5) -- 4\n",
    "\n",
    "    example_graph = {\n",
    "        1: {2: 1, 3: 4, 4: 3},\n",
    "        2: {1: 1, 4: 2},\n",
    "        3: {1: 4, 4: 5},\n",
    "        4: {1: 3, 2: 2, 3: 5}\n",
    "    }\n",
    "\n",
    "    bst = find_bottleneck_spanning_tree(example_graph)\n",
    "    print(\"瓶颈生成树的边:\")\n",
    "    for u, v, weight in bst:\n",
    "        print(f\"{u} -- {weight} -- {v}\")\n",
    "\n",
    "    # 计算瓶颈值\n",
    "    bottleneck_value = max(weight for _, _, weight in bst) if bst else 0\n",
    "    print(f\"瓶颈值: {bottleneck_value}\")"
   ]
  },
  {
   "cell_type": "markdown",
   "metadata": {},
   "source": [
    "## 问题 3\n",
    "\n",
    "**道路网（Road Network）**\n",
    "\n",
    "假设有一个以图 $ G(V, E, l) $ 表示的道路网络，连接了一组城市 $ V $。我们假设该网络是有向的，并且每条道路 $(u, v) \\in E$ 都有一个非负的长度 $ l(u, v) $。一条新的道路即将被建造，因此有一个列表 $ E' $ 包含它可以连接的城市对。每对 $(u, v) \\in E'$ 都有一个对应的长度 $ l'(u, v) $。我们希望选择一对城市，使得两个城市 $ s, t \\in V $ 之间的距离减少最大。请为此问题编写一个高效的算法，并详细解释算法的正确性和复杂度。\n"
   ]
  },
  {
   "cell_type": "markdown",
   "metadata": {},
   "source": [
    "idea:\n",
    "（借助大模型）算法设计思路：\n",
    "1、计算原始最短路径： 首先，使用 Floyd-Warshall 算法计算图中所有城市对 (s, t) 之间的最短路径距离，记为 dist[s][t]。\n",
    "2、遍历候选道路： 遍历候选道路集合 E' 中的每一条道路 (u, v)。\n",
    "3、更新最短路径： 对于每条候选道路 (u, v)，将其添加到图 G 中，并再次使用 Floyd-Warshall 算法更新所有城市对 (s, t) 之间的最短路径距离，记为 new_dist[s][t]。\n",
    "4、计算距离减少量： 计算添加道路 (u, v) 后，所有城市对最短路径距离减少的最大值，即 max(dist[s][t] - new_dist[s][t])，记为 reduction(u, v)。\n",
    "5、选择最优道路： 选择使 reduction(u, v) 最大的道路 (u, v) 作为最终结果。"
   ]
  },
  {
   "cell_type": "markdown",
   "metadata": {},
   "source": [
    "idea:\n",
    "算法的正确性:\n",
    "\n",
    "1、Floyd-Warshall 算法能够正确计算图中所有城市对之间的最短路径。\n",
    "\n",
    "2、通过遍历所有候选道路，并计算添加每条道路后最短路径距离减少的最大值，可以保证找到最优的道路。"
   ]
  },
  {
   "cell_type": "markdown",
   "metadata": {},
   "source": [
    "idea:\n",
    "时间复杂度计算:\n",
    "1、Floyd-Warshall 算法的时间复杂度为 O(V^3)。\n",
    "2、算法需要遍历 E' 中的每条道路，对于每条道路，需要运行一次 Floyd-Warshall 算法，并计算所有城市对之间的距离减少量，因此总的时间复杂度为 O(|E'| * V^3)。"
   ]
  },
  {
   "cell_type": "code",
   "execution_count": 39,
   "metadata": {},
   "outputs": [
    {
     "name": "stdout",
     "output_type": "stream",
     "text": [
      "最优道路: ('B', 'D')\n",
      "最大距离减少量: 11\n"
     ]
    }
   ],
   "source": [
    "# add your code here\n",
    "# algorithm of the time complexity :O(|E'| * V^3)\n",
    "def floyd_warshall(graph):\n",
    "   \n",
    "    dist = {}\n",
    "    nodes = graph.keys()\n",
    "\n",
    "    # 初始化距离矩阵\n",
    "    for node in nodes:\n",
    "        dist[node] = {}\n",
    "        for other_node in nodes:\n",
    "            if node == other_node:\n",
    "                dist[node][other_node] = 0\n",
    "            elif other_node in graph[node]:\n",
    "                dist[node][other_node] = graph[node][other_node]\n",
    "            else:\n",
    "                dist[node][other_node] = float('inf')\n",
    "\n",
    "    # 动态规划更新距离\n",
    "    for k in nodes:\n",
    "        for i in nodes:\n",
    "            for j in nodes:\n",
    "                dist[i][j] = min(dist[i][j], dist[i][k] + dist[k][j])\n",
    "\n",
    "    return dist\n",
    "\n",
    "\n",
    "def find_optimal_road(graph, candidate_roads):\n",
    "    \n",
    "    original_dist = floyd_warshall(graph)\n",
    "    max_reduction = float('-inf')\n",
    "    optimal_road = None\n",
    "\n",
    "    for (u, v), length in candidate_roads.items():\n",
    "        # 创建新图，包含候选道路\n",
    "        new_graph = {node: graph[node].copy() for node in graph}\n",
    "        new_graph.setdefault(u, {})[v] = length\n",
    "\n",
    "        # 计算新图的最短路径\n",
    "        new_dist = floyd_warshall(new_graph)\n",
    "\n",
    "        # 计算距离减少量\n",
    "        reduction = 0\n",
    "        for start_node in graph:\n",
    "            for end_node in graph:\n",
    "                reduction = max(reduction, original_dist[start_node][end_node] - new_dist[start_node][end_node])\n",
    "\n",
    "        # 更新最优道路\n",
    "        if reduction > max_reduction:\n",
    "            max_reduction = reduction\n",
    "            optimal_road = (u, v)\n",
    "\n",
    "    return optimal_road, max_reduction\n",
    "\n",
    "\n",
    "# 示例\n",
    "if __name__ == \"__main__\":\n",
    "    # 示例图\n",
    "    graph = {\n",
    "        'A': {'B': 10, 'C': 3},\n",
    "        'B': {'C': 5},\n",
    "        'C': {'D': 7},\n",
    "        'D': {}\n",
    "    }\n",
    "\n",
    "    # 候选道路\n",
    "    candidate_roads = {\n",
    "        ('A', 'D'): 2,\n",
    "        ('B', 'D'): 1\n",
    "    }\n",
    "\n",
    "    # 寻找最优道路\n",
    "    optimal_road, max_reduction = find_optimal_road(graph, candidate_roads)\n",
    "\n",
    "    print(\"最优道路:\", optimal_road)\n",
    "    print(\"最大距离减少量:\", max_reduction)"
   ]
  },
  {
   "cell_type": "markdown",
   "metadata": {},
   "source": [
    "## 问题 4\n",
    "\n",
    "**逃离问题**\n",
    "\n",
    "一个 $ n \\times n $ 的网格是一个无向图，由 $ n $ 行和 $ n $ 列的顶点组成，如下图所示。我们用 $(i,j)$ 表示第 $ i $ 行和第 $ j $ 列的顶点。除了边界顶点，网格中的所有顶点都有四个邻居，即满足 $ i = 1, i = n, j = 1 $ 或 $ j = n $ 的点 $(i,j)$。\n",
    "\n",
    "给定网格中的 $ m \\leq n^2 $ 个起点 $(x_1, y_1), (x_2, y_2), \\cdots , (x_m, y_m)$，逃离问题是确定是否存在 $ m $ 条顶点不相交的路径（即路径之间不相交），从这些起点到边界上的任意 $ m $ 个不同点。例如，图1中的网格存在逃离。\n",
    "\n",
    "(1) 该问题可以看作是一个最大流问题。考虑一个流网络，其中顶点和边都有容量。也就是说，进入任何给定顶点的总正流量受到容量限制。证明在具有边和顶点容量的网络中确定最大流可以简化为在具有可比大小的普通流网络上的最大流问题。更准确地说，你需要将一个具有顶点和边容量的网络 $ G = (V,E) $ 转换为另一个仅具有边容量的网络 $ G' = (V', E') $，使得两个网络上的最大流相同，并且你构建的新网络具有 $ V' = O(V) $ 个顶点和 $ E' = O(E) $ 条边。你可以假设网络是连通的。\n",
    "\n",
    "(2) 描述一个解决逃离问题的高效算法，并分析其运行时间。\n",
    "\n",
    "\n",
    "<div align=\"center\"> <img alt=\"图片\" src=\"./fig/escepe-p.png\"> </div>\n",
    "<center> 图2. 逃脱问题网格，起始顶点为黑色，其他网格顶点为白色</center>"
   ]
  },
  {
   "cell_type": "markdown",
   "metadata": {},
   "source": [
    "idea：\n",
    "![h4_p4.png](./fig/h4_p4.png)"
   ]
  },
  {
   "cell_type": "markdown",
   "metadata": {},
   "source": [
    "idea：\n",
    "算法设计\n",
    "\n",
    "图建模：\n",
    "1. **每个格点**拆成两个点 $u_{in}$ 和$u_{out}$，中间连一条容量为 1 的边，表示该顶点最多只能被经过一次（顶点容量 = 1）；\n",
    "2. 如果两个点是邻居，例如 $(i, j)$ 和 $(i+1, j)$，则添加边：  \n",
    "   $u_{out(i,j)} → v_{in(i+1,j)}$，容量为 1；\n",
    "3. 引入**超级源点** S，连接所有起点的 $u_{in}$，容量为 1；\n",
    "4. 引入**超级汇点** T，连接所有边界点的 $u_{out}$，容量为 1；\n",
    "5. 求最大流。如果最大流值等于起点个数 m ，说明所有人都能逃脱且路径互不交。\n",
    "\n",
    "运行时间分析：\n",
    "\n",
    "- 总共有 $ n^2 $ 个格点，每个拆成 2 个点，所以点数是 $ O(n^2) $\n",
    "- 每个格点与最多 4 个邻居连接边，拆点后边数是 $ O(n^2) $\n",
    "- 起点与源、边界点与汇连接也是 $ O(n^2) $\n",
    "- 使用 **Dinic 算法**：\n",
    "  - 时间复杂度：\n",
    "    - Dinic: $ O(E \\sqrt{V}) = O(n^2 \\cdot \\sqrt{n^2}) = O(n^3) $\n",
    "\n",
    "因此，总时间复杂度为$ O(n^3) $"
   ]
  },
  {
   "cell_type": "code",
   "execution_count": null,
   "metadata": {},
   "outputs": [],
   "source": []
  }
 ],
 "metadata": {
  "kernelspec": {
   "display_name": "Python 3 (ipykernel)",
   "language": "python",
   "name": "python3"
  },
  "language_info": {
   "codemirror_mode": {
    "name": "ipython",
    "version": 3
   },
   "file_extension": ".py",
   "mimetype": "text/x-python",
   "name": "python",
   "nbconvert_exporter": "python",
   "pygments_lexer": "ipython3",
   "version": "3.12.4"
  }
 },
 "nbformat": 4,
 "nbformat_minor": 4
}
