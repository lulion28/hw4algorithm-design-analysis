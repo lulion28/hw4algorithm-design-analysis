{
 "cells": [
  {
   "cell_type": "markdown",
   "metadata": {},
   "source": [
    "## algorithm design and anlysis-2025 spring  homework 1 \n",
    "**Deadline**：2025.5.14\n",
    "\n",
    "**name**:万俊霖\n",
    "\n",
    "\n",
    "note：\n",
    "---\n",
    "1. 带有\\*的题目，申请免上课的同学，必须完成，其他同学选作；\n",
    "2. 请独立完成，如求助了他人或者大模型，请著明，并且不可省略算法分析部分；\n",
    "4. 如若作答有雷同，全部取消成绩；\n",
    "3. 需要书面作答的题目，可以通过引用图片的形式添加，但是注意上传项目时包含所引用的图片的源文件；\n",
    "4. $log_n$ 默认表示$log_2{n}$;"
   ]
  },
  {
   "cell_type": "markdown",
   "metadata": {},
   "source": [
    "## 问题 1\n",
    "\n",
    "对于下面的每一对表达式(A, B), A是否能表示为B的 $\\Theta, \\Omega ,O$形式. 请注意, 这些关系中的零个、一个或多个可能成立。列出所有正确的。经常发生一些学生会,把指示写错, 所以请把关系写完整, 例如: $A = O(B),  A =\\Theta(B)$, 或$A = \\Omega(B)$。\n",
    "\n",
    "1. $A=n^2-100n, B=n^2$\n",
    "2. $A=logn, B=log_{1.2}n$\n",
    "3. $A=3^{2n}, B=2^{4n}$\n",
    "4. $A=2^{logn}, B=n$\n",
    "5. $A=\\log{\\log}{n},B=10^{10^{100}}$"
   ]
  },
  {
   "cell_type": "markdown",
   "metadata": {},
   "source": [
    "can refer a handwritten picture, pleas upload the picture in /fig/xxx.png\n",
    "answer:\n",
    "![](./fig/h1_p1.png)"
   ]
  },
  {
   "cell_type": "markdown",
   "metadata": {},
   "source": [
    "## 问题 2：\n",
    "\n",
    "假设有函数 $f$ 和 $g$ 使得 $f(n)$ = $O(g(n))$ 对于下面的每一个陈述, 请判断对错, 如果正确请给出证明, 否则请给出一个反例。\n",
    "\n",
    "1. $\\log{f(n)}$ = $O(\\log(1+g(n)))$\n",
    "2. $3^{f(n)}=O(3^{g(n)})$\n",
    "3. $(f(n))^2=O((g(n))^2)$ "
   ]
  },
  {
   "cell_type": "markdown",
   "metadata": {},
   "source": [
    "you can refer a handwritten picture, pleas upload the picture in /fig/xxx.png\n",
    "answer:\n",
    "![](./fig/h1_p2.png)"
   ]
  },
  {
   "cell_type": "markdown",
   "metadata": {},
   "source": [
    "## 问题 3\n",
    "\n",
    "根据下列递归公式, 计算下列 $T(n)$ 对应的的渐近上界。要求所求的边界尽可能的紧（tight）, 请写明步骤。\n",
    "\n",
    "1. $T(1)=1; T(n)=T(n/4)+1$ for $n>1$\n",
    "2. $T(1)=1;T(n)=3T(n/3)+n^2$ for $n>1$\n",
    "3. $T(1)=1;T(n)=T(2n/3)+1$ for $n>1$\n",
    "4. $T(1)=1;T(n)=5T(n/4)+n$ for $n>1$\n",
    "5. $T(n)=1 \\ for\\ n \\le 2 ; T(n)=T(\\sqrt{n})+1 \\ for \\ n>2$"
   ]
  },
  {
   "cell_type": "markdown",
   "metadata": {},
   "source": [
    "can refer a handwritten picture, pleas upload the picture in /fig/xxx.png\n",
    "answer:\n",
    "![](./fig/h1_p3.png)"
   ]
  },
  {
   "cell_type": "markdown",
   "metadata": {},
   "source": [
    "## 问题 4：\n",
    "\n",
    "给定一个包含n个元素的数组 `profits` , 它的第 `i` 个元素 `profits[i]` 表示一支股票第 `i` 天的**收益**（正数表示涨, 负数表示跌）。你只能选择 **某一天** 买入这只股票, 并选择在 **未来的某一个不同的日子** 卖出该股票。\n",
    "\n",
    "1. 设计一个算法来计算你所能获取的最大利润和对应买入和卖出的日期。请分析算法方案, 计算其时间复杂度, 并且使用python编程实现该算法。\n",
    "\n",
    "2. \\* 设计一个时间复杂度为 $O(n)$的算法实现该算法\n",
    "\n",
    "e.g. :\n",
    "---\n",
    "profits=[3,2,1,-7,5,2,-1,3,-1], 第5天买入, 第8天卖出, 收益最大：9\n",
    "\n"
   ]
  },
  {
   "cell_type": "markdown",
   "metadata": {},
   "source": [
    "idea:\n",
    "通过两层循环，外层循环遍历每一个可能的买入日期，内层循环遍历买入日期之后的每一个可能的卖出日期，计算每次买卖的利润，记录最大利润以及对应的买入和卖出日期。两层循环，时间复杂度为$O(n^2)$，其中 n 是数组 profits 的长度。因为对于每个买入日期，都要遍历后面所有日期来计算利润。"
   ]
  },
  {
   "cell_type": "code",
   "execution_count": 34,
   "metadata": {},
   "outputs": [
    {
     "name": "stdout",
     "output_type": "stream",
     "text": [
      "第5天买入, 第8天卖出,收益最大:9\n"
     ]
    }
   ],
   "source": [
    "# add your code\n",
    "def max_profit(profits):\n",
    "    \"\"\"\n",
    "        通过遍历所有可能的买卖组合，找到最大利润和对应的交易日期\n",
    "    \"\"\"\n",
    "    if not profits or len(profits) < 2:\n",
    "        return 0, 0, 0  # 无法交易的情况\n",
    "\n",
    "    max_profit = 0  # 记录最大利润\n",
    "    buy_date = 0  # 最佳买入日期\n",
    "    sell_date = 0  # 最佳卖出日期\n",
    "    n = len(profits)\n",
    "    # 遍历所有可能的买入日期\n",
    "    for i in range(n):\n",
    "        # 遍历所有可能的卖出日期（必须在买入之后）\n",
    "        for j in range(i + 1, n):\n",
    "            # 计算当前买卖组合的利润\n",
    "            profit = sum(profits[i:j + 1])\n",
    "            # 如果发现更高利润，更新记录\n",
    "            if profit > max_profit:\n",
    "                max_profit = profit\n",
    "                buy_date = i + 1\n",
    "                sell_date = j + 1\n",
    "\n",
    "    return max_profit, buy_date, sell_date\n",
    "\n",
    "# 示例\n",
    "profits = [3, 2, 1, -7, 5, 2, -1, 3, -1]\n",
    "max_profit, buy_day, sell_day = max_profit(profits)\n",
    "print(f\"第{buy_day}天买入, 第{sell_day}天卖出,收益最大:{max_profit}\")"
   ]
  },
  {
   "cell_type": "markdown",
   "metadata": {},
   "source": [
    "idea:\n",
    "在遍历每日收益时，动态维护一个当前连续收益子数组，并始终记录该子数组的起始位置。通过比较“延续当前子数组的累计收益”与“以当前日为起点重新计算收益”的大小，决定是否重置买入日期。若当前累计收益大于历史最大值，则同步更新最大利润及其对应的买卖日期索引。"
   ]
  },
  {
   "cell_type": "code",
   "execution_count": 28,
   "metadata": {},
   "outputs": [
    {
     "name": "stdout",
     "output_type": "stream",
     "text": [
      "第5天买入, 第8天卖出,收益最大:9\n"
     ]
    }
   ],
   "source": [
    "# an algorithm with O(n)\n",
    "def max_profit(profits):\n",
    "    n = len(profits)\n",
    "    if n == 0:\n",
    "        return 0, 0, 0\n",
    "\n",
    "    max_profit = 0  # 初始化最大利润为0\n",
    "    current_sum = 0  # 当前收益\n",
    "    buy_date = 0  # 最佳买入日期\n",
    "    sell_date = 0  # 最佳卖出日期\n",
    "    temp_buy = 0  # 初始化临时买入日期（用于记录可能的新买入点）\n",
    "\n",
    "    # 遍历收益列表（因为至少要有两天才能买卖股票）\n",
    "    for i in range(1, n):\n",
    "        # 如果当前累计收益加上当天的收益大于当天单独的收益，说明继续持有股票，累计收益会增加，就把当天收益加到累计收益中\n",
    "        if current_sum + profits[i] > profits[i]:\n",
    "            current_sum += profits[i]\n",
    "        else:\n",
    "            # 否则，之前的累计收益是负累，不如从当天开始重新计算累计收益\n",
    "            current_sum = profits[i]\n",
    "            # 记录新的可能的买入日期\n",
    "            temp_buy = i\n",
    "\n",
    "        # 如果当前累计收益大于之前记录的最大利润\n",
    "        if current_sum > max_profit:\n",
    "            max_profit = current_sum  # 更新最大利润\n",
    "            buy_date = temp_buy   #更新买入日期\n",
    "            sell_date = i  # 更新卖出日期\n",
    "\n",
    "    if max_profit <= 0:\n",
    "        return 0, 0, 0  # 如果最大利润小于等于0，说明没有盈利的买卖组合，返回利润0，买入日期0，卖出日期0\n",
    "    else:\n",
    "        return max_profit, buy_date + 1, sell_date + 1  # 转换为1-based索引\n",
    "\n",
    "\n",
    "# 示例\n",
    "profits = [3, 2, 1, -7, 5, 2, -1, 3, -1]\n",
    "max_profit, buy_day, sell_day = max_profit(profits)\n",
    "print(f\"第{buy_day}天买入, 第{sell_day}天卖出,收益最大:{max_profit}\")"
   ]
  },
  {
   "cell_type": "markdown",
   "metadata": {},
   "source": [
    "## 问题 5：\n",
    "\n",
    "观察下方的分治算法（divide-and-conquer algorithm）的伪代码, 回答下面问题\n",
    "\n",
    "```latex\n",
    "DoSomething(A,p,r)\n",
    "-----\n",
    "n := r-p+1\n",
    "if n=2 and A[p]>A[r] then\n",
    "    swap A[p] and A[r]\n",
    "else if n >= 3 then\n",
    "    m = ceil(2n/3)\n",
    "    DoSomething(A,p,p+m-1)\n",
    "    DoSomething(A,r-m+1,r)\n",
    "    DoSomething(A,p,p+m-1)  \n",
    "    \n",
    "---\n",
    "first call: DoSomething(A,1,n)\n",
    "```\n",
    "\n",
    "note：$ceil(2n/3)=\\left\\lceil {2n/3} \\right\\rceil$；$:=$ 表示赋值, 等价于 $\\to$；A是一个包含n的整数元素的数组, \n",
    "\n",
    "1. 写出该算法时间复杂度的递归公式, 并求解其对应的渐进表示\n",
    "2. 描述一下该算法的功能, 并判断是否是最高效的解决方案\n",
    "3. 使用python编程实现上述算法或其对应的更高效版本的算法\n"
   ]
  },
  {
   "cell_type": "markdown",
   "metadata": {},
   "source": [
    "idea:\n",
    "![h1_p5](./fig/h1_p5.png)"
   ]
  },
  {
   "cell_type": "markdown",
   "metadata": {},
   "source": [
    "answer:\n",
    "该算法是一种基于分治策略的排序算法，其工作原理是对数组的特定子区间进行递归处理。当处理长度为2的子区间时，算法直接比较并交换元素（如果逆序）；对于长度大于等于3的子区间，算法先计算2/3长度的分割点，然后递归处理前2/3区间、后2/3区间，最后再次处理前2/3区间，通过这种\"三明治\"式的递归调用来实现排序。\n",
    "该算法不是最高效的解决方案，其时间复杂度高达$O(n^{\\log_{3/2} 3})$，远不如常见的高效排序算法，如快速排序和归并排序，甚至比简单的O(n^2)排序算法效率更低。因此，虽然这个算法能够正确完成排序任务，但在实际应用中效率极低。"
   ]
  },
  {
   "cell_type": "code",
   "execution_count": 56,
   "metadata": {},
   "outputs": [
    {
     "name": "stdout",
     "output_type": "stream",
     "text": [
      "[-7, -1, -1, 1, 2, 2, 3, 3, 5]\n"
     ]
    }
   ],
   "source": [
    "# add your code here\n",
    "# your algorithm time complexity is :O(n^{\\log_{3/2} 3})\n",
    "# 实现原算法\n",
    "def sort(A, start, end):\n",
    "    # 计算当前处理的数组片段的长度\n",
    "    n = end - start + 1\n",
    "    # 如果数组片段的长度为 2,检查第一个元素是否大于第二个元素\n",
    "    if n == 2 and A[start] > A[end]:\n",
    "        # 如果是，则交换这两个元素的位置\n",
    "        A[start], A[end] = A[end], A[start]\n",
    "    # 如果数组片段的长度大于等于 3\n",
    "    elif n >= 3:\n",
    "        m = (2 * n + 2) // 3  # 计算 m 的值，m 约为当前数组片段长度的 2/3 并向上取整\n",
    "        sort(A, start, start + m - 1)  # 递归调用sort函数，对数组片段的前 m 个元素进行排序\n",
    "        sort(A, end - m + 1, end)  # 递归调用sort函数，对数组片段的后 m 个元素进行排序\n",
    "        sort(A, start, start + m - 1)  # 再次递归调用sort函数，对数组片段的前 m 个元素进行排序\n",
    "\n",
    "# Example usage:\n",
    "A = [3, 2, 1, -7, 5, 2, -1, 3, -1]  #测试用例\n",
    "sort(A, 0, len(A) - 1)\n",
    "print(A)"
   ]
  },
  {
   "cell_type": "markdown",
   "metadata": {},
   "source": [
    "## 问题 6：\n",
    "\n",
    "给定一个大小为 `n` 的数组 `nums` , 返回其中的多数元素。多数元素是指在数组中出现次数 **大于** `⌊ n/2 ⌋` 的元素。\n",
    "\n",
    "你可以假设数组是非空的, 并且给定的数组总是存在多数元素。\n",
    "\n",
    "1. 设计一个算法找到给定数组的多数元素, 分析算法设计思路, 计算算法时间复杂度, 使用python编程实现\n",
    "2. \\* 设计时间复杂度为 O(n)、空间复杂度为 O(1) 的算法解决此问题, 分析算法设计思路, 使用python编程实现\n",
    "\n",
    "e.g.:\n",
    "---\n",
    "1. nums=[3,2,3], 返回3\n",
    "2. nums=[2,2,1,1,1,2,2], 返回2\n"
   ]
  },
  {
   "cell_type": "markdown",
   "metadata": {},
   "source": [
    "idea：\n",
    "设计思路：首先对输入数组 nums 进行排序，使相同元素相邻，便于后续统计。初始化 current_num 为数组首个元素作为候选多数元素，count 为 1 记录其出现次数。然后从数组第二个元素开始遍历，若当前元素与 current_num 相同则 count 加 1，不同则 count 减 1，当 count 为 0 时，更新 current_num 为当前元素并重置 count 为 1 。遍历结束后，current_num 即为多数元素并返回。\n",
    "时间复杂度：该算法的时间复杂度由排序和遍历两部分操作构成。排序使用Python内置的sort()方法（Timsort算法），平均时间复杂度为 $O(n log n)$ ；遍历操作是对数组进行一次线性遍历，每个元素仅访问一次，时间复杂度为 $O(n)$ 。由于 $O(n log n)$ 大于 $O(n)$ ，所以该算法的总体时间复杂度为 $O(n log n)$ 。"
   ]
  },
  {
   "cell_type": "code",
   "execution_count": 50,
   "metadata": {},
   "outputs": [
    {
     "name": "stdout",
     "output_type": "stream",
     "text": [
      "3\n",
      "2\n"
     ]
    }
   ],
   "source": [
    "# add your code here\n",
    "# your algorithm time complexity is :O(nlogn)\n",
    "def find(nums):\n",
    "    nums.sort()  # 对输入的数组进行排序，这样相同的元素会相邻排列\n",
    "    n = len(nums)  # 数组长度\n",
    "    current_num = nums[0]  # 初始化多数元素为数组的第一个元素\n",
    "    count = 1  # 计数器，用于记录当前候选元素的出现次数\n",
    "    # 从数组的第二个元素开始遍历\n",
    "    for i in range(1, n):\n",
    "        # 如果当前元素和候选元素相同\n",
    "        if nums[i] == current_num:\n",
    "            count += 1  # 则将计数器加 1，表示该候选元素又出现了一次\n",
    "        else:\n",
    "            count -= 1  # 如果当前元素和候选元素不同，则将计数器减 1\n",
    "            # 当计数器减到 0 时，说明当前候选元素的出现次数可能不够多\n",
    "            if count == 0:\n",
    "                current_num = nums[i]  # 把当前元素设为新的候选元素\n",
    "                count = 1  # 并将计数器重置为 1\n",
    "    return current_num\n",
    "\n",
    "# 示例\n",
    "print(find([3, 2, 3]))  # 返回 3\n",
    "print(find([2, 2, 1, 1, 1, 2, 2]))  # 返回2"
   ]
  },
  {
   "cell_type": "markdown",
   "metadata": {},
   "source": [
    "idea for 2\\*：\n",
    "该算法采用摩尔投票法思路，先初始化多数元素current_num为None、计数器count为 0 。在遍历数组nums时，每当count为 0，就把当前元素设为current_num，若当前元素与current_num相同则count加 1，不同则count减 1 。这一过程不断抵消不同元素，利用多数元素出现次数超过数组长度一半，能确保最后剩下的current_num即为多数元素，通过这种方式在一次遍历中高效找出多数元素。\r\n"
   ]
  },
  {
   "cell_type": "code",
   "execution_count": 14,
   "metadata": {},
   "outputs": [
    {
     "name": "stdout",
     "output_type": "stream",
     "text": [
      "3\n",
      "2\n"
     ]
    }
   ],
   "source": [
    "# algorithm time complexity：O(n), space complexity:O(1)\n",
    "# add your code here\n",
    "def find_2(nums):\n",
    "\n",
    "    current_num = None  # 初始化要选取的多数元素为 None\n",
    "    count = 0  # 计数器，用于记录当前候选元素的出现次数\n",
    "\n",
    "    for num in nums:\n",
    "        if count == 0:\n",
    "            current_num = num  # 当计数器为 0 时，意味着之前的选取的元素可能不是多数元素，更新候选元素为当前元素\n",
    "        if num == current_num:  # 如果当前元素和选取元素相同，计数器加 1；否则计数器减 1\n",
    "            count = count + 1\n",
    "        else:\n",
    "            count = count - 1\n",
    "    return current_num\n",
    "\n",
    "# 示例\n",
    "print(find_2([3, 2, 3]))  # 返回 3\n",
    "print(find_2([2, 2, 1, 1, 1, 2, 2]))  # 返回 2"
   ]
  },
  {
   "cell_type": "markdown",
   "metadata": {},
   "source": [
    "## 问题 7：\n",
    "\n",
    "给定一个包含不同整数元素的数组 $ A[1..n]$ ,并且满足条件：$A[1]>A[2]$ 并且 $A[n-1]<A[n]$; 规定：如果一个元素比它两边的邻居元素都小, 即：$A[x]<A[x-1], A[x]<A[x+1]$ , 称这个元素A[x]为“局部最小”。通过遍历一次数组, 我们可以很容易在 $O(n)$的时间复杂度下找到一个局部最小值, \n",
    "\n",
    "\n",
    "1. 分析该问题, 设计一个算法在$O(logn)$的时间复杂度下找到一个局部最小(返回数值), 要求：分析算法设计思路, 并且使用python编程实现\n",
    "2. \\* 设计算法找出所有局部最小值, 分析算法设计思路, 并使用python编程实现\n",
    "\n",
    "e.g.:\n",
    "---\n",
    "A=[9, 3, 7, 2, 1, 4, 5 ] 时,  局部最小元素为 3, 1\n"
   ]
  },
  {
   "cell_type": "markdown",
   "metadata": {},
   "source": [
    "idea：\n",
    "根据二分查找方式，由于A[1] > A[2]且A[n - 1] < A[n]，可以确定数组两端非局部最小值。每次取数组中间位置mid，通过比较A[mid]与其左右邻居来缩小查找范围。若A[mid]小于其左右元素，则找到局部最小值；若A[mid]大于左邻元素（因为左边界的性质以及数组为不同元素的集合保证了左半部分一定存在局部最小值），说明局部最小值在左半部分，便在左半部分继续查找；若A[mid]大于右邻元素，则在右半部分查找，一直循环，直至找到局部最小值。"
   ]
  },
  {
   "cell_type": "code",
   "execution_count": 2,
   "metadata": {},
   "outputs": [
    {
     "name": "stdout",
     "output_type": "stream",
     "text": [
      "1\n"
     ]
    }
   ],
   "source": [
    "# add your code here\n",
    "# your algorithm time complexity is :O(logn)\n",
    "def find(nums):\n",
    "    # 确定查找区间的左边界，排除第一个元素\n",
    "    left = 1\n",
    "    # 确定查找区间的右边界，排除最后一个元素\n",
    "    right = len(nums) - 2\n",
    "    # 当左边界小于等于右边界时，循环继续查找\n",
    "    while left <= right:\n",
    "        # 计算中间位置\n",
    "        mid = left + (right - left) // 2\n",
    "        # 中间元素是否小于其左右元素，如果是，说明找到了局部最小值，直接返回\n",
    "        if nums[mid] < nums[mid - 1] and nums[mid] < nums[mid + 1]:\n",
    "            return nums[mid]\n",
    "        # 如果中间元素大于左邻居，说明局部最小值可能在左边部分，更新右边界\n",
    "        elif nums[mid] > nums[mid - 1]:\n",
    "            right = mid - 1\n",
    "        # 如果中间元素不大于左邻居（即小于等于左邻居），说明局部最小值可能在右边部分，更新左边界\n",
    "        else:\n",
    "            left = mid + 1\n",
    "    # 循环结束后，根据左边界是否在数组范围内，返回相应的元素\n",
    "    if left < len(arr):\n",
    "        return nums[left]\n",
    "    else:\n",
    "        return nums[right]\n",
    "\n",
    "# 测试示例\n",
    "A = [9, 3, 7, 2, 1, 4, 5 ]\n",
    "print(find(A))"
   ]
  },
  {
   "cell_type": "markdown",
   "metadata": {},
   "source": [
    "idea:\n",
    "首先初始化一个空列表用于存储结果，并获取数组长度。然后通过遍历数组中间部分的元素（不包括两端），比较每个元素与其左右元素的大小，若该元素小于左右元素，则认定为局部最小值并添加到结果列表中。最后返回存储着所有局部最小值的列表，从而完成对数组中局部最小值的查找。"
   ]
  },
  {
   "cell_type": "code",
   "execution_count": 8,
   "metadata": {},
   "outputs": [
    {
     "name": "stdout",
     "output_type": "stream",
     "text": [
      "A=[9, 3, 7, 2, 1, 4, 5] 时,局部最小元素为3, 1\n"
     ]
    }
   ],
   "source": [
    "# add your code here\n",
    "# your algorithm time complexity is :O(n)\n",
    "def find(nums):\n",
    "    # 空列表存储找到的局部最小值\n",
    "    result = []\n",
    "    n = len(nums)\n",
    "\n",
    "    for i in range(1, n - 1):\n",
    "        left = nums[i - 1]\n",
    "        right = nums[i + 1]\n",
    "        # 判断当前元素arr[i]是否既小于左边元素left，又小于右边元素right, 如果是，说明当前元素是一个局部最小值\n",
    "        if nums[i] < left and nums[i] < right:\n",
    "            result.append(nums[i])  # 将这个局部最小值添加到result列表中\n",
    "    return result\n",
    "\n",
    "\n",
    "# 测试示例\n",
    "A = [9, 3, 7, 2, 1, 4, 5]\n",
    "local_mins = find(A)\n",
    "print(f\"A={A} 时,局部最小元素为{', '.join(map(str, local_mins))}\")"
   ]
  },
  {
   "cell_type": "markdown",
   "metadata": {},
   "source": [
    "## 问题 8：\n",
    "\n",
    "给定包含n个不同数字的一组数, 寻找一种基于比较的算法在这组数中找到k个最小的数字, 并按顺序输出它们。\n",
    "\n",
    "1. 将n个数先进行排序, 然后按顺序输出最小的k个数。要求：选择合适的排序算法实现上述操作, 计算算法时间复杂度, 并使用python编程实现。\n",
    "2. 建立一个包含这n个数的堆（heap）, 并且调用 k 次Extract-min 按顺序输出最小的k个数。使用往空堆中不断插入元素的方法建立堆, 分析这种方法建堆的时间复杂度, 并使用python编程实现\n",
    "3. \\* 假设数组中包含的数据总数目超过了计算机的存储能力, 请设计一个算法, 找到这堆数据的前k小的数值, 计算时间复杂度, 并使用python实现该算法, 假设计算机一定能存储k个数据。\n",
    "\n",
    "e.g.：\n",
    "---\n",
    "数组arr=[5,4,3,2,6,1,88,33,22,107] 的前3个最小数据为：1, 2, 3\n"
   ]
  },
  {
   "cell_type": "markdown",
   "metadata": {},
   "source": [
    "idea：\n",
    "使用冒泡排序对数组进行升序排序，然后取排序后数组的前 k 个元素，即为最小的 k 个数。排序算法的时间复杂度为$O(n^2)$，提取前k个数的函数的时间复杂度为$O(n^2)$，所以总体的时间复杂度为$O(n^2)$\n"
   ]
  },
  {
   "cell_type": "code",
   "execution_count": 47,
   "metadata": {},
   "outputs": [
    {
     "name": "stdout",
     "output_type": "stream",
     "text": [
      "数组arr=[1, 2, 3, 4, 5, 6, 22, 33, 88, 107] 的前3个最小数据为：1, 2, 3\n"
     ]
    }
   ],
   "source": [
    "# add your code here\n",
    "# your algorithm time complexity is :O(n^2)\n",
    "def bubble_sort(arr):\n",
    "    n = len(arr)\n",
    "    for i in range(n):\n",
    "        for j in range(0, n - i - 1):\n",
    "            if arr[j] > arr[j + 1]:\n",
    "                # 交换元素位置\n",
    "                temp = arr[j]\n",
    "                arr[j] = arr[j + 1]\n",
    "                arr[j + 1] = temp\n",
    "    return arr\n",
    "\n",
    "\n",
    "def find(arr, k):\n",
    "    sorted_arr = bubble_sort(arr)\n",
    "    return sorted_arr[:k]\n",
    "\n",
    "\n",
    "arr = [5, 4, 3, 2, 6, 1, 88, 33, 22, 107]\n",
    "k = 3\n",
    "result = find(arr, k)\n",
    "result_str = ', '.join(map(str, result))\n",
    "print(f\"数组arr={arr} 的前{k}个最小数据为：{result_str}\")"
   ]
  },
  {
   "cell_type": "markdown",
   "metadata": {},
   "source": [
    "idea：\n",
    "先往空堆中不断插入数组中的元素建立堆，每次插入操作时间复杂度为$O(logn)$，建堆完成后，调用 k 次 Extract - min操作（弹出堆顶元素，也就是当前堆中最小的元素 ），每次操作时间复杂度为$O(logn)$，即可按顺序输出最小的 k 个数。往空堆中插入 n 个元素，每次插入时间复杂度为$O(logn)$，所以建堆时间复杂度为$O(nlogn)$\n"
   ]
  },
  {
   "cell_type": "code",
   "execution_count": 4,
   "metadata": {},
   "outputs": [
    {
     "name": "stdout",
     "output_type": "stream",
     "text": [
      "数组arr=[5, 4, 3, 2, 6, 1, 88, 33, 22, 107] 的前3个最小数据为：1, 2, 3\n"
     ]
    }
   ],
   "source": [
    "# add your code here\n",
    "# your algorithm time complexity is :O(nlogn)\n",
    "import heapq\n",
    "\n",
    "def find_heap(arr, k):\n",
    "    heap = []\n",
    "    for num in arr:\n",
    "        # 将数字添加到堆中\n",
    "        heapq.heappush(heap, num)\n",
    "    result = []\n",
    "    for i in range(k):\n",
    "        # 从堆中弹出最小的元素（堆顶元素），并添加到结果列表中\n",
    "        smallest = heapq.heappop(heap)\n",
    "        result.append(smallest)\n",
    "    return result\n",
    "\n",
    "\n",
    "arr = [5, 4, 3, 2, 6, 1, 88, 33, 22, 107]\n",
    "k = 3\n",
    "res = find_heap(arr, k)\n",
    "res_str = ', '.join(map(str, res))\n",
    "print(f\"数组arr={arr} 的前{k}个最小数据为：{res_str}\")"
   ]
  },
  {
   "cell_type": "markdown",
   "metadata": {},
   "source": [
    "idea：\n",
    "使用一个为k的最大堆（max - heap）。遍历数组，对于每个元素，如果堆的大小小于k，直接插入堆中；如果堆的大小等于k，比较当前元素和堆顶元素（堆顶元素是当前堆中最大的元素 ），若当前元素小于堆顶元素，弹出堆顶元素，再插入当前元素。遍历结束后，堆中元素就是前k小的元素。\n",
    "时间复杂度：每次插入替换的堆操作的时间复杂度为$O(logk)$，遍历n个数据的时间复杂度为$O(nlogk)$，总时间复杂度为$O(nlogk)$"
   ]
  },
  {
   "cell_type": "code",
   "execution_count": 45,
   "metadata": {},
   "outputs": [
    {
     "name": "stdout",
     "output_type": "stream",
     "text": [
      "数组arr=[5, 4, 3, 2, 6, 1, 88, 33, 22, 107] 的前3个最小数据为：1, 2, 3\n"
     ]
    }
   ],
   "source": [
    "# add your code here\n",
    "# your algorithm time complexity is :O(nlogk)\n",
    "import heapq\n",
    "\n",
    "def find_data(data_stream, k):\n",
    "    max_heap = []\n",
    "    for num in data_stream:\n",
    "        # 如果最大堆中的元素个数小于k，直接将数字的负数加入堆中\n",
    "        if len(max_heap) < k:\n",
    "            heapq.heappush(max_heap, -num)  # 用负数模拟最大堆\n",
    "        else:\n",
    "            # 如果当前数字小于最大堆的堆顶元素（即当前堆中的最大数）\n",
    "            if num < -max_heap[0]:\n",
    "                heapq.heappop(max_heap)  # 弹出堆顶元素（即移除当前堆中的最大数）\n",
    "                heapq.heappush(max_heap, -num)  # 将当前数字的负数加入堆中\n",
    "        # 创建一个空列表，用于存储最终结果\n",
    "    result = []\n",
    "    # 遍历最大堆，将每个元素取反并加入结果列表\n",
    "    for element in max_heap:\n",
    "        result.append(-element)\n",
    "\n",
    "    # 对结果列表进行排序，得到升序排列的最小k个数\n",
    "    result.sort()\n",
    "    # 返回排序后的结果\n",
    "    return result\n",
    "\n",
    "\n",
    "arr = [5, 4, 3, 2, 6, 1, 88, 33, 22, 107]\n",
    "k = 3\n",
    "result = find_data(arr, k)\n",
    "res_str = ', '.join(map(str, result))\n",
    "print(f\"数组arr={arr} 的前{k}个最小数据为：{res_str}\")"
   ]
  },
  {
   "cell_type": "markdown",
   "metadata": {},
   "source": [
    "## 问题 9：\n",
    "\n",
    "**选择问题**:给定一个包含n个未排序值的数组A和一个$k≤n$的整数, 返回A中最小的第k项。\n",
    "\n",
    "在课堂上, 学了一个简单的O(n)随机算法来解决选择问题。事实上还有一种更复杂的最坏情况下时间复杂度为$O(n)$ 的选择算法。假设使用一个黑盒过程来实现这个O(n)选择算法: 给定一个数组A、 $p < r$ 和 k,  $BB(A, p, r, k)$ 可以在$O(r−p+ 1)$时间内找到并报告$A[p..r]$中第k小的项的下标。假设你可以在线性时间内处理Partition过程。\n",
    "\n",
    "1. 请分析如何修改 Quicksork 算法可以使其最差情况下的运行时间为 $O(nlogn)$, 使用伪代码实现, 并分析为何修改后的版本最差情况的运行时间为$O(nlogn)$\n",
    "\n",
    "note: 伪代码中, 你可以直接调用用` BB(A,p,r,k)`这个函数用于表示在最坏情况下时间复杂度为$O(n)$的选择算法；\n",
    "\n",
    "\n",
    "\n",
    "2. 找到一个更好的算法报告数组A中的前k小的项, 使用伪代码表示你的算法, 并分析你算法的时间复杂度。\n",
    "\n",
    "举例：A=[13, 3, 7, 9, 11, 1, 15, 2, 8, 10, 12, 16, 14, 5], 当k=4时, 应该报告1, 2, 3, 4\n",
    "\n",
    "note： 最直观的方法就是先将数组A排序, 然后从左向右报告其前k项, 这样操作的时间复杂度为$O(nlogn)$. 调用用` BB(A,p,r,k)`设计一个算法使其报告无序数组A的前k项, 满足时间复杂度好于$\\Theta(nlogn)$, 并且当$k=\\sqrt{n}$时, 你设计的算法时间复杂度应该为$\\Theta(n)$.\n",
    "\n",
    "\n",
    "\n",
    "3. 给定一个大小为n的数组, 找到一个 时间复杂度为$O(n log k)$ 的算法, 该算法将A中的元素重新排序, 使它们被划分为k个部分, 每个部分的元素小于或等于下一部分的元素。假设n和k都是2的幂。使用伪代码表示你的算法, 并分析时间复杂度。\n",
    "\n",
    "e.g.:\n",
    "---\n",
    "数组：[1,  3,  5,  7,  9,  11,  13,  15,  2,  4,  6,  8,  10,  12,  16,  14], k=4, \n",
    "\n",
    "对应重新排序的数组为：[1,  3,  2,  4]  [7,  6,  5,  8]  [12,  11,  10,  9]  [13,  14,  16,  15]\n",
    "\n",
    "\n"
   ]
  },
  {
   "cell_type": "markdown",
   "metadata": {},
   "source": [
    "idea：\n",
    "在每次划分前，使用$BB$函数找到中位数作为主元，这样能保证每次划分后两个子数组的大小大致相等，从而使最差情况时间复杂度降为$O(nlogn)$。\n",
    "在修改算法中，通过$BB$函数选中位数作主元，能使划分均匀。`Partition` 划分操作时间与子数组规模相关，为 $O(r - p + 1)$ 。因主元是中位数，递归深度为 $\\log n$ ，每一层处理子数组时间为 $O(n)$ （含选主元与划分 ），总的时间复杂度为递归深度乘以每一层时间复杂度，即 $O(n\\log n)$ ，所以最差情况运行时间为 $O(n\\log n)$ 。 "
   ]
  },
  {
   "cell_type": "markdown",
   "metadata": {},
   "source": [
    "add your pseudo-code here\n",
    "\n",
    "```python\n",
    "ModifiedQuickSort(A, p, r)\n",
    "    if p < r\n",
    "        # 计算子数组长度并确定中间位置\n",
    "        median_k = (r - p + 1) // 2\n",
    "        # 调用线性时间选择算法确定中位数的下标\n",
    "        pivot_index = BB(A, p, r, median_k)\n",
    "        # 将中位数交换到末尾\n",
    "        swap A[pivot_index] and A[r]\n",
    "        # 执行划分操作\n",
    "        q = Partition(A, p, r)\n",
    "        # 递归处理左右子数组\n",
    "        ModifiedQuickSort(A, p, q - 1)\n",
    "        ModifiedQuickSort(A, q + 1, r)\n",
    "Partition(A, p, r)\n",
    "    pivot = A[r]\n",
    "    i = p - 1\n",
    "    for j = p to r - 1:\n",
    "        if A[j] <= pivot:\n",
    "            i = i + 1\n",
    "            swap A[i] and A[j]\n",
    "    swap A[i + 1] and A[r]\n",
    "    return i + 1\n",
    "```"
   ]
  },
  {
   "cell_type": "markdown",
   "metadata": {},
   "source": [
    "idea：\n",
    "利用$BB(A,p,r,k)$函数不断缩小搜索范围。每次通过$BB$函数找到当前子数组中第 k 小的元素，将数组划分为小于该元素和大于等于该元素两部分，然后只在包含前 k 小元素的那部分继续搜索，直到找到前 k 小的元素。每次调用 $BB$ 函数时间复杂度为 $O(n)$ ，每次划分后数组规模至少减半。假设最多需要 $t$ 次划分，有 $n/2^t = 1$ ，即 $t = logn$ 。每次划分除了调用 $BB$ 函数外，其他操作时间复杂度为 $O(n)$ ，所以总的时间复杂度为 $O(nlogn)$ 。当 $k = \\sqrt{n}$ 时，由于每次划分能快速缩小搜索范围，算法时间复杂度为 $O(n)$ "
   ]
  },
  {
   "cell_type": "markdown",
   "metadata": {},
   "source": [
    "add your pseudo-code here\n",
    "\n",
    "```python\n",
    "FindKSmallest(A, p, r, k)\n",
    "    if k == 0\n",
    "        return []\n",
    "    if p == r\n",
    "        return [A[p]]\n",
    "    pivot_index = BB(A, p, r, k)# 通过BB函数选择基准元素的索引\n",
    "    pivot = A[pivot_index]# 获取基准元素的值\n",
    "    left = []\n",
    "    right = []\n",
    "    for i from p to r\n",
    "        # 如果元素小于基准值，加入左列表\n",
    "        if A[i] < pivot   \n",
    "            left.append(A[i])\n",
    "        # 如果元素等于基准值\n",
    "        else if A[i] == pivot\n",
    "            # 若左列表元素数量还未达到k，则加入左列表\n",
    "            if len(left) < k\n",
    "                left.append(A[i])\n",
    "            else\n",
    "                right.append(A[i])\n",
    "        else\n",
    "            right.append(A[i])\n",
    "    # 如果左列表元素数量恰好等于k，直接返回左列表\n",
    "    if len(left) == k\n",
    "        return left\n",
    "    # 如果左列表元素数量小于k，递归在右列表中寻找剩余的k-len(left)个元素\n",
    "    elif len(left) < k\n",
    "        return left + FindKSmallest(right, 0, len(right) - 1, k - len(left))\n",
    "    # 如果左列表元素数量大于k，递归在左列表中寻找前k个元素\n",
    "    else\n",
    "        return FindKSmallest(left, 0, len(left) - 1, k)\n",
    "```"
   ]
  },
  {
   "cell_type": "markdown",
   "metadata": {},
   "source": [
    "idea：\n",
    "利用分治思想，先将数组不断二分，直到子数组规模足够小，然后利用 $BB$ 函数找到合适的划分点，将子数组合并成满足要求的 $k$ 个部分。`DivideAndConquer` 函数的递归深度为 $logk$ （因为每次将数组规模减半，最后要得到 $k$ 个部分 ），每次递归操作时间复杂度为 $O(n)$ （遍历子数组等操作 ），所以 `DivideAndConquer` 函数时间复杂度为 $O(nlogk)$ 。合并部分每次从 $k$ 个子数组中找最小值，每次操作时间复杂度为 $O(k)$ ，总共需要 $n$ 次这样的操作，时间复杂度为 $O(nk)$ ，但由于 $k$ 是常数（相对于 $n$ ），整体时间复杂度为 $O(nlogk)$ 。"
   ]
  },
  {
   "cell_type": "markdown",
   "metadata": {
    "scrolled": true
   },
   "source": [
    "add your pseudo-code here\n",
    "```python\n",
    "PartitionArray(A, k)\n",
    "    n = len(A)\n",
    "    subarrays = []\n",
    "    DivideAndConquer(A, 0, n - 1, subarrays)\n",
    "    result = []\n",
    "    while subarrays:\n",
    "        min_subarray = None\n",
    "        min_value = float('inf')\n",
    "        # 遍历所有子数组，寻找当前首元素最小的子数组\n",
    "        for subarray in subarrays:\n",
    "            # 若子数组非空且其首元素小于当前最小值\n",
    "            if subarray and subarray[0] < min_value:\n",
    "                # 更新最小值和对应的子数组\n",
    "                min_value = subarray[0]\n",
    "                min_subarray = subarray\n",
    "        # 将找到的最小元素添加到结果列表\n",
    "        result.append(min_subarray.pop(0))\n",
    "        # 若该子数组已为空，从子数组列表中移除\n",
    "        if not min_subarray:\n",
    "            subarrays.remove(min_subarray)\n",
    "    return result\n",
    "\n",
    "DivideAndConquer(A, p, r, subarrays)\n",
    "    if r - p + 1 <= n / k\n",
    "        subarrays.append(A[p:r + 1])\n",
    "        return\n",
    "    mid = (p + r) / 2\n",
    "    # 递归处理左半部分数组\n",
    "    DivideAndConquer(A, p, mid, subarrays)\n",
    "   # 递归处理右半部分数组\n",
    "    DivideAndConquer(A, mid + 1, r, subarrays)\n",
    "```"
   ]
  },
  {
   "cell_type": "markdown",
   "metadata": {},
   "source": [
    "## 问题 10：\n",
    "\n",
    "给定一个包含m个**字符串**的数组A, 其中不同的字符串可能有不同的字符数, 但数组中所有字符串的字符总数为n。设计一个算法在 $O(n)$ 时间内对字符串进行排序, 分析算法设计方案, 计算其时间复杂度, 并基于python编程实现该算法。请注意, 假设字符串只包含\"a\",\"b\",...,\"z\", \n",
    "\n",
    "\n",
    "\n",
    "举例1：数组A=[\"a\", \"da\", \"bde\", \"ab\", \"bc\", \"abdc\", \"cdba\"], 排序后的数组应该为：['a', 'ab', 'abdc', 'bc', 'bde', 'cdba', 'da']\n",
    "\n",
    "\n",
    "\n",
    "举例2：数组A=['ab', 'a', 'b', 'abc', 'ba', 'c'], 排序后的数组应该为：\n",
    "\n",
    "['a', 'ab', 'abc', 'b', 'ba', 'c']\n",
    "\n",
    "\n",
    "\n",
    "举例3：数组A=['aef', 'yzr', 'wr', 'ab', 'bhjc', 'lkabdc', 'pwcdba'],  排序后的数组应该为：['ab', 'aef', 'bhjc', 'lkabdc', 'pwcdba', 'wr', 'yzr']\n",
    "\n",
    "\n",
    "\n",
    "note：\n",
    "\n",
    "-  两个字符之间的比较可以考虑比较他们对应的ASCII码值；\n",
    "- python中可以使用`ord(\"a\")`返回字符 “a”对应的ASCII值"
   ]
  },
  {
   "cell_type": "markdown",
   "metadata": {},
   "source": [
    "idea:\n",
    "首先找到数组中最长的字符串长度，然后将所有字符串用空格左补全至该长度，确保长度一致。接着从最低位到最高位依次进行排序，每次排序使用计数排序的分桶策略，将字符串按当前字符分配到26个字母对应的桶中。经过多轮分桶和重组后，最终去除补全的空格得到有序结果。\n",
    "时间复杂度：补全字符串操作中，遍历所有字符串确定最长长度并补全，因字符串字符总数为 n ，时间复杂度为 $O(n)$ 。基数排序过程中，对每一位字符进行操作，假设最长字符串长度为 l ，共进行 l 次。每次操作创建桶、分配字符串到桶以及收集字符串，涉及对 m 个字符串（字符总数为 n ）和 26 个桶的处理，时间复杂度为$O(m + 26)$，整体这部分时间复杂度也为$O(n)$。所以整个算法的时间复杂度为$O(n)$ "
   ]
  },
  {
   "cell_type": "code",
   "execution_count": 14,
   "metadata": {
    "scrolled": true
   },
   "outputs": [
    {
     "name": "stdout",
     "output_type": "stream",
     "text": [
      "['a', 'ab', 'abdc', 'bc', 'bde', 'cdba', 'da']\n",
      "['a', 'ab', 'abc', 'b', 'ba', 'c']\n",
      "['ab', 'aef', 'bhjc', 'lkabdc', 'pwcdba', 'wr', 'yzr']\n"
     ]
    }
   ],
   "source": [
    "def sort_strings(strings):\n",
    "    # 初始化最长字符串长度为0\n",
    "    max_length = 0\n",
    "    # 找到字符串数组中最长字符串的长度\n",
    "    if strings:\n",
    "        for s in strings:\n",
    "            if len(s) > max_length:\n",
    "                max_length = len(s)\n",
    "    # 将每个字符串补全到最长字符串的长度，使用空格在左边补全\n",
    "    new_strings = []\n",
    "    for s in strings:\n",
    "        new_s = s.ljust(max_length)\n",
    "        new_strings.append(new_s)\n",
    "\n",
    "    # 从右到左，按字符位置进行排序\n",
    "    for i in range(max_length - 1, -1, -1):\n",
    "        # 创建26个桶，对应a - z\n",
    "        buckets = []\n",
    "        for _ in range(26):\n",
    "            bucket = []\n",
    "            buckets.append(bucket)\n",
    "        # 将字符串按当前位置的字符放入对应的桶中\n",
    "        for s in new_strings:\n",
    "            # 如果当前字符是空格，将其放入第一个桶\n",
    "            if s[i] == ' ':\n",
    "                buckets[0].append(s)\n",
    "            else:\n",
    "                # 计算字符对应的桶的索引\n",
    "                index = ord(s[i]) - ord('a')\n",
    "                buckets[index].append(s)\n",
    "        # 清空原字符串数组，准备重新填充\n",
    "        new_strings = []\n",
    "        # 按顺序将桶中的字符串取出，重新组成字符串数组\n",
    "        for bucket in buckets:\n",
    "            for s in bucket:\n",
    "                new_strings.append(s)\n",
    "    # 去除补全的空格\n",
    "    result = []\n",
    "    for s in new_strings:\n",
    "        new_s = s.rstrip()\n",
    "        result.append(new_s)\n",
    "    return result\n",
    "\n",
    "# 测试示例\n",
    "A = [\"a\", \"da\", \"bde\", \"ab\", \"bc\", \"abdc\", \"cdba\"]\n",
    "print(sort_strings(A))\n",
    "B = ['ab', 'a', 'b', 'abc', 'ba', 'c']\n",
    "print(sort_strings(B))\n",
    "C = ['aef', 'yzr', 'wr', 'ab', 'bhjc', 'lkabdc', 'pwcdba']\n",
    "print(sort_strings(C))"
   ]
  },
  {
   "cell_type": "code",
   "execution_count": null,
   "metadata": {},
   "outputs": [],
   "source": []
  }
 ],
 "metadata": {
  "kernelspec": {
   "display_name": "Python 3 (ipykernel)",
   "language": "python",
   "name": "python3"
  },
  "language_info": {
   "codemirror_mode": {
    "name": "ipython",
    "version": 3
   },
   "file_extension": ".py",
   "mimetype": "text/x-python",
   "name": "python",
   "nbconvert_exporter": "python",
   "pygments_lexer": "ipython3",
   "version": "3.12.4"
  }
 },
 "nbformat": 4,
 "nbformat_minor": 4
}
