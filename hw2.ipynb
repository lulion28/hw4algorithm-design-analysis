{
 "cells": [
  {
   "cell_type": "markdown",
   "metadata": {},
   "source": [
    "## algorithm design and anlysis-2025 spring  homework 2\n",
    "**Deadline**：2025.5.14\n",
    "\n",
    "**name**:\n",
    "\n",
    "\n",
    "note：\n",
    "---\n",
    "1. 带有\\*的题目，申请免上课的同学，必须完成，其他同学选作；\n",
    "2. 请独立完成，如求助了他人或者大模型，请著明，并且不可省略算法分析部分；\n",
    "4. 如若作答有雷同，全部取消成绩；\n",
    "3. 需要书面作答的题目，可以通过引用图片的形式添加，但是注意上传项目时包含所引用的图片的源文件；\n",
    "4. $log_n$ 默认表示$log_2{n}$;"
   ]
  },
  {
   "cell_type": "markdown",
   "metadata": {},
   "source": [
    "## 问题 1  \n",
    "\n",
    "> 给定一个已排序的链表的头 `head` ， *删除所有重复的元素，使每个元素只出现一次* 。返回 *已排序的链表* 。链表的类如下所示：\n",
    "\n",
    "```python\n",
    "class NodeList:\n",
    "    def __init__(self, val=None, right=None):\n",
    "        self.val   = val\n",
    "        self.right = right\n",
    "```\n",
    "\n",
    "输入是一个数组，你首先需要将数组转化为链表，然后删除链表中的重复元素，再遍历链表元素，以一个数组的形式返回。请设计一个算法解决上述任务，分析算法设计思路，计算时间复杂度, 并基于python编程实现。\n",
    "\n",
    "e.g.  输入：head=[1, 1, 2, 3, 3]   输出：[1, 2, 3]\n",
    "\n",
    "![image-20240502110020439](./fig/hw2q1.png)\n",
    "\n"
   ]
  },
  {
   "cell_type": "markdown",
   "metadata": {},
   "source": [
    "idea：\n",
    "首先将输入的数组转换为链表结构。每个节点包含一个值（`val`）和指向下一个节点的指针（`right`）,然后进行删除重复元素操作，由于链表已经是排序好的，重复的元素一定是相邻的，所以遍历链表，比较当前节点和下一个节点的值，如果值相同，则跳过下一个节点（删除重复节点），反之则移动到下一节点；最后遍历处理后的链表，将节点的值依次存入数组，最终返回该数组。链表转换需要遍历数组一次，时间复杂度为$O(n)$；删除重复元素也需要遍历链表一次，时间复杂度为$O(n)$；链表转数组需要遍历链表一次，时间复杂度为$O(n)$。因此总时间复杂度为$O(n)$+ $O(n)$+ $O(n)$=$O(n)$。"
   ]
  },
  {
   "cell_type": "code",
   "execution_count": 6,
   "metadata": {},
   "outputs": [
    {
     "name": "stdout",
     "output_type": "stream",
     "text": [
      "[1, 2, 3]\n"
     ]
    }
   ],
   "source": [
    "# add your idea here\n",
    "# your algorithm time complexity is:O(n)\n",
    "class ListNode:\n",
    "    def __init__(self, val=None, right=None):\n",
    "        self.val = val\n",
    "        self.right = right\n",
    "\n",
    "# 将数组转换为链表\n",
    "def array_to_linked(arr):\n",
    "    if not arr:  # 如果数组为空，返回空链表\n",
    "        return None\n",
    "    head = ListNode(arr[0])  # 创建头节点（链表的第一个节点）\n",
    "    current = head  # current指针用来逐步构建链表\n",
    "    # 遍历数组中剩余的元素\n",
    "    for val in arr[1:]:\n",
    "        current.right = ListNode(val)  # 创建新节点并连接到当前节点后面\n",
    "        current = current.right  # 移动current指针到新节点\n",
    "    return head  # 返回链表的头节点\n",
    "\n",
    "# 删除链表中的重复元素\n",
    "def delete(head):\n",
    "    if not head:  # 如果是空链表，直接返回\n",
    "        return None\n",
    "    current = head  # 从链表头开始遍历\n",
    "    while current.right:  # 检查当前节点是否有下一个节点\n",
    "        if current.val == current.right.val:   # 如果当前节点和下一个节点的值相同,跳过下一个节点（删除重复节点）\n",
    "            current.right = current.right.right\n",
    "        else:\n",
    "            current = current.right  # 如果值不同，移动到下一个节点\n",
    "    return head\n",
    "\n",
    "# 将链表转换为数组\n",
    "def linked_to_array(head):\n",
    "    arr = []\n",
    "    current = head  # 从链表头开始遍历\n",
    "    while current:\n",
    "        arr.append(current.val)  # 将节点值加入数组\n",
    "        current = current.right  # 移动到下一个节点\n",
    "    return arr\n",
    "\n",
    "def remove_duplicates_from_sorted_list(arr):\n",
    "    head = array_to_linked(arr)\n",
    "    head = delete(head)\n",
    "    return linked_to_array(head)\n",
    "\n",
    "# 测试示例\n",
    "head = [1, 1, 2, 3, 3]\n",
    "output_arr = remove_duplicates_from_sorted_list(head)\n",
    "print(output_arr)"
   ]
  },
  {
   "cell_type": "markdown",
   "metadata": {},
   "source": [
    "## 问题 2  \n",
    "\n",
    "> 下面是一个经典的算法问题：\n",
    ">\n",
    "> - 给定包含n个整数的一个整数数组 `nums` 和一个整数目标值 `target`，请你在该数组中找出 **和为目标值** *`target`* 的那 **两个** 整数，并返回它们的**数组下标**。假设每种输入只会对应一个答案。但是，数组中同一个元素在答案里不能重复出现。你可以按任意顺序返回答案。\n",
    ">\n",
    "> 由于要多次查找数组中元素的位置，为了提高查询效率可以使用哈希表来存储数组中的数据，在哈希表中查询一个元素的复杂度为O(1)。 已知python中的字典是使用哈希表实现的，即使用`dict[key]`查询对应的value时间复杂度为O(1), python提供了查询字典是否包含某个key的功能：`key in dict`，时间复杂度也是O(1)\n",
    "\n",
    "请根据上面信息，设计一个时间复杂度为O(n) 的算法，解决上述算法问题\n",
    "\n",
    "e.g.   \n",
    "\n",
    "输入：nums=[2,7,11,15], target=9， 输出：[0，1]\n",
    "\n",
    "输入：nums=[3,2,4], target=6, 输出：[1,2]\n",
    "\n",
    "输入：nums=[3,3], target=6,  输出：[0,1]\n"
   ]
  },
  {
   "cell_type": "markdown",
   "metadata": {},
   "source": [
    "idea：\n",
    "利用Python中的字典（基于哈希表实现）来解决该问题。遍历数组 `nums`，对于每个元素 `num`，计算 `target - num` 的值，然后检查该值是否已经在字典中。如果在字典中，说明找到了两个数的和为 `target`，直接返回这两个数对应的索引；如果不在字典中，就将当前元素 `num` 及其索引存入字典，以便后续元素查找时使用。这样遍历一次数组（时间复杂度为 $O(n)$ ）就能找到满足条件的两个数。\n"
   ]
  },
  {
   "cell_type": "code",
   "execution_count": 11,
   "metadata": {},
   "outputs": [
    {
     "name": "stdout",
     "output_type": "stream",
     "text": [
      "[0, 1]\n",
      "[1, 2]\n",
      "[0, 1]\n"
     ]
    }
   ],
   "source": [
    "# add your idea here\n",
    "# your algorithm time complexity is: O(n)\n",
    "def two_sum(nums, target):\n",
    "    num_dict = {}  # 哈希表，存储数字到索引的映射\n",
    "\n",
    "    for i in range(len(nums)):\n",
    "        num = nums[i]\n",
    "        # 计算当前数字与目标值的差值\n",
    "        complement = target - num\n",
    "        # 检查差值是否在字典中\n",
    "        if complement in num_dict:\n",
    "            # 如果在字典中，说明找到了两个数的和为目标值\n",
    "            # 返回差值对应的索引和当前数字的索引\n",
    "            return [num_dict[complement], i]\n",
    "        else:\n",
    "            # 如果差值不在字典中，将当前数字和它的索引存入字典\n",
    "            num_dict[num] = i\n",
    "        # 如果没有找到符合条件的两个数，返回空列表\n",
    "        # 根据题目，这里实际上不会执行，因为每种输入只会对应一个答案\n",
    "    return []\n",
    "\n",
    "# 测试示例\n",
    "print(two_sum([2, 7, 11, 15], 9))\n",
    "print(two_sum([3, 2, 4], 6))\n",
    "print(two_sum([3, 3], 6)) "
   ]
  },
  {
   "cell_type": "markdown",
   "metadata": {},
   "source": [
    "## 问题 3:   \n",
    "\n",
    "> 栈是一种常用的数据结构，编译器中通常使用栈来实现表达式求值。\n",
    ">\n",
    "> 以表达式 $3+5 \\times 8-6$​ 为例。编译器使用两个栈来完成运算，即一个栈保持操作数，另一个栈保存运算符。\n",
    ">\n",
    "> 1. 从左向右遍历表达式，遇到数字就压入操作数栈；\n",
    ">\n",
    "> 2. 遇到运算符，就与运算符栈的栈顶元素进行比较。如果比运算符栈顶元素的优先级高，就将当前运算符压入栈；如果比运算符栈顶元素的优先级低或者相同，从运算符栈中取栈顶运算符，从操作数栈的栈顶取 2 个操作数，然后进行计算，再把计算完的结果压入操作数栈，继续比较。\n",
    ">\n",
    "> 下图是 $3+5 \\times 8-6$  这个表达式的计算过程：\n",
    "\n",
    "![figure](./fig/hw2q3.png)\n",
    "\n",
    "根据上述原理，请设计一个算法完成表达式的运算，当输入为表达式字符串，返回对应的计算结果。分析算法设计思路，计算时间复杂度，并基于python编程实现\n",
    "\n",
    "**note：**\n",
    "\n",
    "1. 假设输入的表达式只会出现加（“+”），减 “-”， 乘“*”，除 “/” 四个运算符, 表达式中只会出现正整数\n",
    "2. python中` str.isdigit()`函数可以判断字符串str是否为数字，\n",
    "\n",
    "\n",
    "\n",
    "e.g. :\n",
    "---\n",
    "\n",
    "1. 输入：“$3+5 * 8 -6$”   输出：37\n",
    "\n",
    "2. 输入：“$34+13*9 + 44-12/3$”  输出：191"
   ]
  },
  {
   "cell_type": "markdown",
   "metadata": {},
   "source": [
    "idea：\n",
    "算法采用双栈结构（操作数栈和运算符栈）实现，核心思想是通过运算符优先级比较来控制计算顺序。首先初始化空栈并定义运算符优先级；然后从左到右扫描表达式，遇到数字时提取完整数值压入操作数栈；遇到运算符时，循环比较当前运算符与栈顶运算符的优先级，若栈顶优先级高则立即弹出计算（先乘除后加减），将结果压回操作数栈，直到当前运算符优先级更高才入栈；表达式扫描完成后，依次处理栈内剩余运算符；最终操作数栈的唯一元素即为结果。算法通过延迟处理低优先级运算、即时执行高优先级运算的策略，时间复杂度$O(n)$（n为表达式长度）。"
   ]
  },
  {
   "cell_type": "code",
   "execution_count": 18,
   "metadata": {},
   "outputs": [
    {
     "name": "stdout",
     "output_type": "stream",
     "text": [
      "37\n",
      "191\n"
     ]
    }
   ],
   "source": [
    "# add your idea here\n",
    "# your algorithm time complexity is: O(n)\n",
    "def calculate(s):\n",
    "    def compute(op, a, b):  # 定义内部函数，根据运算符计算结果\n",
    "        if op == '+':\n",
    "            return a + b\n",
    "        elif op == '-':\n",
    "            return a - b\n",
    "        elif op == '*':\n",
    "            return a * b\n",
    "        elif op == '/':\n",
    "            return a // b\n",
    "\n",
    "    # 定义运算符优先级\n",
    "    precedence = {'+': 1, '-': 1, '*': 2, '/': 2}\n",
    "\n",
    "    # 创建两个列表，模拟栈，分别存储数字和运算符\n",
    "    num_stack = []\n",
    "    op_stack = []\n",
    "    i = 0\n",
    "    n = len(s)\n",
    "\n",
    "    while i < n:\n",
    "        # 如果遇到空格，跳过该字符\n",
    "        if s[i] == ' ':\n",
    "            i += 1\n",
    "            continue\n",
    "        if s[i].isdigit():  # 如果遇到数字\n",
    "            num = 0\n",
    "            while i < n and s[i].isdigit():  # 将连续的数字字符组合成一个整数\n",
    "                num = num * 10 + int(s[i])\n",
    "                i += 1\n",
    "            num_stack.append(num)  # 将整数添加到数字栈中\n",
    "        else:\n",
    "            # 当运算符栈不为空，且栈顶运算符优先级大于等于当前运算符优先级时\n",
    "            while op_stack and precedence[op_stack[-1]] >= precedence[s[i]]:\n",
    "                op = op_stack.pop()  # 从运算符栈中取出一个运算符\n",
    "                b = num_stack.pop()  # 从数字栈中取出两个数字\n",
    "                a = num_stack.pop()\n",
    "                num_stack.append(compute(op, a, b))  # 计算结果，并将结果放回数字栈中\n",
    "            op_stack.append(s[i])  # 将当前运算符添加到运算符栈中\n",
    "            i += 1\n",
    "\n",
    "    # 处理运算符栈中剩余的运算符\n",
    "    while op_stack:\n",
    "        op = op_stack.pop()\n",
    "        b = num_stack.pop()\n",
    "        a = num_stack.pop()\n",
    "        num_stack.append(compute(op, a, b))\n",
    "\n",
    "    return num_stack[0]\n",
    "\n",
    "\n",
    "print(calculate(\"3 + 5 * 8 - 6\"))  # 输出: 37\n",
    "print(calculate(\"34 + 13 * 9 + 44 - 12 / 3\"))  # 输出: 191"
   ]
  },
  {
   "cell_type": "markdown",
   "metadata": {},
   "source": [
    "## 问题 4:  \n",
    "\n",
    "> 星球碰撞问题：现有n个星球，在同一条直线上运行，如数组A所示，元素的绝对值表示星球的质量，负数表示星球自右向左运动，正数表示星球自左向右运动，当两个星球相撞的时候，质量小的会消失，大的保持不变，**质量相同的两个星球碰撞后自右向左运动的星球消失，自左向右的星球保持不变**，假设所有星球的速度大小相同。\n",
    ">\n",
    "> $ A=[23,-8, 9, -3, -7, 9, -23, 22] $\n",
    "\n",
    "请设计一个算法模拟星球的运行情况，输出最终的星球存续情况（输出一个数组），分析算法设计思路，计算时间复杂度，并基于python编程实现。\n",
    "\n",
    "e.g.\n",
    "---\n",
    "1.  输入： A=[-3,-6,2,8, 5,-8,9,-2,1]， 输出：[-3, -6, 2, 8, 9, 1]\n",
    "\n",
    "2. 输入：A=[23,-8, 9, -3, -7, 9, -23, 22], 输出：[23, 22]\n",
    "\n"
   ]
  },
  {
   "cell_type": "markdown",
   "metadata": {},
   "source": [
    "idea：首先初始化一个栈用于存放存活星球。遍历行星列表时，依据行星运动方向和质量判断碰撞情况，若栈顶行星与当前行星反向则处理碰撞，质量大的留存，相等时自右向左的消失，处理完一轮碰撞后，未摧毁行星入栈，最终栈中元素即剩余行星。"
   ]
  },
  {
   "cell_type": "code",
   "execution_count": 8,
   "metadata": {},
   "outputs": [
    {
     "name": "stdout",
     "output_type": "stream",
     "text": [
      "[-3, -6, 2, 8, 9, 1]\n",
      "[23, 22]\n"
     ]
    }
   ],
   "source": [
    "# add your idea here\n",
    "# your algorithm time complexity is:O(n)\n",
    "def col_planets(A):\n",
    "    stack = []  # 创建一个空栈\n",
    "    for planet in A:  # 遍历每个行星\n",
    "        # 检查是否需要碰撞（栈顶向右且当前行星向左）\n",
    "        while stack and stack[-1] > 0 and planet < 0:\n",
    "            top = stack[-1]  # 取出栈顶行星\n",
    "            # 比较两个行星的质量（取绝对值）\n",
    "            if top > -planet:  # 栈顶行星质量更大，当前行星被摧毁\n",
    "                planet = None\n",
    "                break\n",
    "            elif top < -planet:  # 栈顶行星质量更小，栈顶行星被摧毁\n",
    "                stack.pop()\n",
    "            else:  # 两者质量相等，同归于尽\n",
    "                planet = None\n",
    "                break\n",
    "        if planet is not None:  # 如果当前行星未被摧毁，加入结果列表\n",
    "            stack.append(planet)\n",
    "    return stack\n",
    "\n",
    "# 测试\n",
    "A1 = [-3, -6, 2, 8, 5, -8, 9, -2, 1]\n",
    "A2 = [23, -8, 9, -3, -7, 9, -23, 22]\n",
    "print(col_planets(A1))\n",
    "print(col_planets(A2))"
   ]
  },
  {
   "cell_type": "markdown",
   "metadata": {},
   "source": [
    "## 问题 5 \n",
    "\n",
    "> 给定一个无序数组nums=[9,-3,-10,0,9,7,33]，请建立一个二叉搜索树存储数组中的所有元素，之后删除二叉树中的元素“0”，再使用中序遍历输出二叉搜索树中的所有元素。\n",
    "\n",
    "使用python编程完成上述任务，并计算时间复杂度\n"
   ]
  },
  {
   "cell_type": "markdown",
   "metadata": {},
   "source": [
    "idea：\n",
    "本题算法基于二叉搜索树（BST）的核心特性，通过递归实现插入、删除和遍历操作。首先，以数组元素依次构建BST，插入时遵循“左小右大”规则，允许重复值插入右子树以维持结构完整性；删除操作根据节点类型（叶节点、单子树节点或双子树节点）分类处理，双子树节点通过寻找右子树的最小后继节点替换并递归删除以保证BST有序性；最后通过中序遍历输出有序序列。时间复杂度方面，构建过程平均需O(n log n)（每个元素插入需O(log n)），但若数组有序导致树退化为链表，时间复杂度为O(n²)；删除和查询操作的时间复杂度同理取决于树的高度。"
   ]
  },
  {
   "cell_type": "code",
   "execution_count": 2,
   "metadata": {},
   "outputs": [
    {
     "name": "stdout",
     "output_type": "stream",
     "text": [
      "二叉搜索树中序遍历结果: [-10, -3, 7, 9, 9, 33]\n"
     ]
    }
   ],
   "source": [
    "# your algorithm time complexity is:平均时间复杂度为O(nlogn)，最坏时间复杂度为O(n^2)\n",
    "class TreeNode:\n",
    "    def __init__(self, val=0, left=None, right=None):\n",
    "        self.val = val\n",
    "        self.left = left\n",
    "        self.right = right\n",
    "\n",
    "\n",
    "def insert(root, val):\n",
    "    \"\"\"向二叉搜索树中插入一个新值\"\"\"\n",
    "    if not root:\n",
    "        return TreeNode(val)\n",
    "\n",
    "    if val < root.val:\n",
    "        root.left = insert(root.left, val)\n",
    "    elif val > root.val:\n",
    "        root.right = insert(root.right, val)\n",
    "    # 如果值相等，BST通常不处理重复值，但本题中允许重复元素\n",
    "    else:\n",
    "        root.right = insert(root.right, val)\n",
    "\n",
    "    return root\n",
    "\n",
    "\n",
    "def build(nums):\n",
    "    \"\"\"根据数组构建二叉搜索树\"\"\"\n",
    "    if not nums:\n",
    "        return None\n",
    "\n",
    "    root = None\n",
    "    for num in nums:\n",
    "        root = insert(root, num)\n",
    "\n",
    "    return root\n",
    "\n",
    "\n",
    "def find(node):\n",
    "    \"\"\"找到以给定节点为根的子树中的最小值节点\"\"\"\n",
    "    current = node\n",
    "    # 一直向左遍历找到最小值\n",
    "    while current.left is not None:\n",
    "        current = current.left\n",
    "    return current\n",
    "\n",
    "\n",
    "def delete(root, key):\n",
    "    \"\"\"从二叉搜索树中删除指定值的节点\"\"\"\n",
    "    if not root:\n",
    "        return None\n",
    "\n",
    "    # 如果要删除的键小于当前节点的值，则在左子树中删除\n",
    "    if key < root.val:\n",
    "        root.left = delete(root.left, key)\n",
    "    # 如果要删除的键大于当前节点的值，则在右子树中删除\n",
    "    elif key > root.val:\n",
    "        root.right = delete(root.right, key)\n",
    "    # 如果找到了要删除的节点\n",
    "    else:\n",
    "        # 叶节点（没有子节点）\n",
    "        if not root.left and not root.right:\n",
    "            return None\n",
    "\n",
    "        # 只有一个子节点\n",
    "        if not root.left:\n",
    "            return root.right\n",
    "        if not root.right:\n",
    "            return root.left\n",
    "\n",
    "        # 有两个子节点\n",
    "        # 找到右子树中的最小节点（后继节点）\n",
    "        successor = find(root.right)\n",
    "        # 用后继节点的值替换当前节点的值\n",
    "        root.val = successor.val\n",
    "        # 删除后继节点\n",
    "        root.right = delete(root.right, successor.val)\n",
    "\n",
    "    return root\n",
    "\n",
    "\n",
    "def inorder_traversal(root, result):\n",
    "    \"\"\"中序遍历二叉搜索树\"\"\"\n",
    "    if root:\n",
    "        inorder_traversal(root.left, result)\n",
    "        result.append(root.val)\n",
    "        inorder_traversal(root.right, result)\n",
    "\n",
    "\n",
    "def main():\n",
    "    # 给定数组\n",
    "    nums = [9, -3, -10, 0, 9, 7, 33]\n",
    "\n",
    "    # 1. 构建二叉搜索树\n",
    "    root = build(nums)\n",
    "\n",
    "    # 2. 删除值为0的节点\n",
    "    root = delete(root, 0)\n",
    "\n",
    "    # 3. 中序遍历输出结果\n",
    "    result = []\n",
    "    inorder_traversal(root, result)\n",
    "\n",
    "    print(\"二叉搜索树中序遍历结果:\", result)\n",
    "    return result\n",
    "\n",
    "\n",
    "# 执行主函数\n",
    "if __name__ == \"__main__\":\n",
    "    main()"
   ]
  },
  {
   "cell_type": "markdown",
   "metadata": {},
   "source": [
    "## 问题 6  \n",
    "\n",
    "> 给定一个包含大写字母和小写字母的字符串 s ，返回 字符串包含的 **最长的回文子串的长度** 。请注意 区分大小写 。比如 \"Aa\" 不能当做一个回文字符串。\n",
    ">\n",
    "\n",
    "请设计一个算法解决上述问题，只需要输出最长回文子串的长度，分析算法设计思路，计算时间复杂度，并基于python编程实现\n",
    "\n",
    "e.g. 输入： s=\"adccaccd\"，  输出：7。 最长回文子串为：\"dccaccd\", 长度为7\n"
   ]
  },
  {
   "cell_type": "markdown",
   "metadata": {},
   "source": [
    "idea：\n",
    "用了中心扩展法来解决这个问题，遍历字符串中的每个字符，将其作为\"中心点\"，从中心点向两侧扩展，只要两侧的字符相同就继续扩展，然后记录在扩展过程中发现的最长回文子串。奇数长度的回文串中心是单个字符，而偶数长度的回文串中心是两个字符之间的位置。"
   ]
  },
  {
   "cell_type": "code",
   "execution_count": 5,
   "metadata": {},
   "outputs": [
    {
     "name": "stdout",
     "output_type": "stream",
     "text": [
      "输入: s = \"adccaccd\", 输出: 7, 最长回文子串为: \"dccaccd\", 长度为7\n"
     ]
    }
   ],
   "source": [
    "# add your idea here\n",
    "# your algorithm time complexity is:O(n²)\n",
    "def longest_palindrome_substring(s):\n",
    "    \"\"\"\n",
    "    计算字符串中最长的回文子串的长度\n",
    "\n",
    "    \"\"\"\n",
    "    # 如果字符串为空，直接返回0\n",
    "    if not s:\n",
    "        return 0\n",
    "\n",
    "    # 使用中心扩展法\n",
    "    def expand_around_center(left, right):\n",
    "        \"\"\"从中心向两边扩展，寻找回文\"\"\"\n",
    "        while left >= 0 and right < len(s) and s[left] == s[right]:\n",
    "            left -= 1\n",
    "            right += 1\n",
    "        # 返回回文的长度，注意right已经+1，left已经-1，所以长度是right-left-1\n",
    "        return right - left - 1\n",
    "\n",
    "    max_length = 0\n",
    "    for i in range(len(s)):\n",
    "        # 考虑奇数长度的回文（以单个字符为中心）\n",
    "        len1 = expand_around_center(i, i)\n",
    "        # 考虑偶数长度的回文（以两个字符之间的空隙为中心）\n",
    "        len2 = expand_around_center(i, i + 1)\n",
    "        # 比较长度，更新最大长度\n",
    "        max_length = max(max_length, len1, len2)\n",
    "\n",
    "    return max_length\n",
    "\n",
    "\n",
    "# 测试案例\n",
    "s = \"adccaccd\"\n",
    "result = longest_palindrome_substring(s)\n",
    "print(f\"输入: s = \\\"{s}\\\", 输出: {result}, 最长回文子串为: \\\"dccaccd\\\", 长度为{result}\")"
   ]
  },
  {
   "cell_type": "markdown",
   "metadata": {},
   "source": [
    "## 问题 7 \n",
    "\n",
    "> 沿一条长河流分散着n座房子。你可以把这条河想象成一条轴，房子是由它们在这条轴上的坐标按顺序排列的。你的公司想在河边的特定地点设置手机基站，这样每户人家都在距离基站4公里的范围内。输入可以看作为一个升序数组，数组元素的取值为大于等于0的正整数，你需要输出最小基站的数目，基站的位置。\n",
    "\n",
    "1. 给出一个时间复杂度为$O(n$) 的算法，使所使用的基站数量最小化，分析算法设计思路，使用python编程实现\n",
    "2. 证明1.中算法产生了最优解决方案。\n",
    "\n",
    "e.g. \n",
    "\n",
    "输入： [1, 5, 12, 33, 34,35]  输出：基站数目为3， 基站位置为[1，12，33]\n",
    "\n"
   ]
  },
  {
   "cell_type": "markdown",
   "metadata": {},
   "source": [
    "idea：\n",
    "算法采用贪心策略，从左到右依次处理房子，在每一个尚未被覆盖的房子位置建立基站，然后跳过所有被该基站覆盖的房子，继续寻找下一个未被覆盖的房子并建立新的基站，直到所有房子都被覆盖"
   ]
  },
  {
   "cell_type": "code",
   "execution_count": 16,
   "metadata": {},
   "outputs": [
    {
     "name": "stdout",
     "output_type": "stream",
     "text": [
      "输入: [1, 5, 12, 33, 34, 35]\n",
      "输出: 基站数目为3, 基站位置为[1, 12, 33]\n"
     ]
    }
   ],
   "source": [
    "# add your idea here\n",
    "# your algorithm time complexity is:O(n)\n",
    "def min_stations(houses):\n",
    "\n",
    "    if not houses:\n",
    "        return 0, []\n",
    "\n",
    "    stations = []\n",
    "    n = len(houses)\n",
    "    i = 0\n",
    "\n",
    "    while i < n:\n",
    "        # 在当前未覆盖的第一个房子位置建立基站\n",
    "        curr_pos = houses[i]\n",
    "        stations.append(curr_pos)\n",
    "\n",
    "        # 跳过所有被该基站覆盖的房子\n",
    "        while i < n and houses[i] <= curr_pos + 4:\n",
    "            i += 1\n",
    "\n",
    "    return len(stations), stations\n",
    "\n",
    "\n",
    "houses = [1, 5, 12, 33, 34, 35]\n",
    "min_count, station_positions = min_stations(houses)\n",
    "\n",
    "print(f\"输入: {houses}\")\n",
    "print(f\"输出: 基站数目为{min_count}, 基站位置为{station_positions}\")\n"
   ]
  },
  {
   "cell_type": "markdown",
   "metadata": {},
   "source": [
    "idea：证明：对于从左到右排序的房子序列，我们每次选择最左边未被覆盖的房子位置作为建站点是最优的。假设存在一个更优解，对于第一个基站，如果不选择最左边的房子h₁而选择右侧某个房子hₖ作为基站位置，那么该基站必须仍能覆盖h₁（否则不是有效解）。这意味着hₖ距离h₁不超过4公里，所以这个基站的最大覆盖右边界是h₁+8公里。而直接在h₁建站可覆盖到h₁+4公里，所以任何不选择最左房子作为基站点的方案都无法覆盖到更远的房子。通过归纳法，对每组未覆盖的房子应用相同的逻辑，可以证明这种贪心选择总能得到最少基站数的最优解。"
   ]
  },
  {
   "cell_type": "markdown",
   "metadata": {},
   "source": [
    "## 问题 8  \n",
    "\n",
    "> 给定由n个正整数组成的一个集合$S = \\{a_1, a_2，···，a_n\\}$和一个正整数W，设计一个算法确定是否存在S的一个子集 $K \\subseteq S$, 使K中所有数之和为 $W$, 如果存在返回“True”，否则返回“False”\n",
    "\n",
    "请设计一个时间复杂度为$O(nW)$动态规划算法，解决上述问题，分析算法的设计思路，并且基于python编程实现（不需要输出子集）。\n",
    "\n",
    "e.g. \n",
    "\n",
    "输入：S = {1,4,7,3,5}， W = 11，输出：True。   因为K可以是{4,7}。\n",
    "\n"
   ]
  },
  {
   "cell_type": "markdown",
   "metadata": {},
   "source": [
    "idea：算法采用动态规划法，关键是定义状态dp[i][j]表示使用集合中前i个元素能否组成和为j的子集。算法使用两层循环填充动态规划表：外循环遍历集合中的每个元素，内循环遍历从1到目标和W的所有可能值。对于每个状态dp[i][j]，要么不使用当前元素（此时查看dp[i-1][j]），要么使用当前元素（此时查看dp[i-1][j-S[i-1]]），只要这两种情况之一成立，dp[i][j]就为真。最终dp[n][W]的值即为问题的答案，若为真则表示存在所需子集。该算法时间复杂度为O(nW)。"
   ]
  },
  {
   "cell_type": "code",
   "execution_count": 20,
   "metadata": {},
   "outputs": [
    {
     "name": "stdout",
     "output_type": "stream",
     "text": [
      "输入: S = [1, 4, 7, 3, 5], W = 11\n",
      "K可以是 [7, 4]\n",
      "输出: True\n"
     ]
    }
   ],
   "source": [
    "# add your idea here\n",
    "# your algorithm time complexity is: O(nW)\n",
    "def find(S, W):\n",
    "\n",
    "    n = len(S)\n",
    "\n",
    "    # 创建动态规划表格 dp[i][j] 表示使用前i个元素能否得到和为j\n",
    "    dp = []\n",
    "    for i in range(n + 1):\n",
    "        row = []\n",
    "        for j in range(W + 1):\n",
    "            row.append(False)\n",
    "        dp.append(row)\n",
    "\n",
    "    # 空集的和为0，这是一个有效的解\n",
    "    for i in range(n + 1):\n",
    "        dp[i][0] = True\n",
    "\n",
    "    # 填充DP表格\n",
    "    for i in range(1, n + 1):\n",
    "        for j in range(1, W + 1):\n",
    "            # 如果不使用当前元素，检查使用前i-1个元素能否得到和为j\n",
    "            if dp[i - 1][j]:\n",
    "                dp[i][j] = True\n",
    "            # 如果使用当前元素，检查使用前i-1个元素能否得到和为j-S[i-1]\n",
    "            elif j >= S[i - 1] and dp[i - 1][j - S[i - 1]]:\n",
    "                dp[i][j] = True\n",
    "\n",
    "    # 回溯找出构成和为W的子集（如果存在）\n",
    "    if dp[n][W]:\n",
    "        subset = []\n",
    "        i, j = n, W\n",
    "        while i > 0 and j > 0:\n",
    "            # 如果当前状态不是从上一行的同列转移而来，说明使用了当前元素\n",
    "            if not dp[i - 1][j]:\n",
    "                subset.append(S[i - 1])\n",
    "                j -= S[i - 1]\n",
    "            i -= 1\n",
    "        print(f\"K可以是 {subset}\")\n",
    "\n",
    "    return dp[n][W]\n",
    "\n",
    "\n",
    "# 测试案例\n",
    "S = [1, 4, 7, 3, 5]\n",
    "W = 11\n",
    "\n",
    "print(f\"输入: S = {S}, W = {W}\")\n",
    "result = find(S, W)\n",
    "print(f\"输出: {result}\")"
   ]
  },
  {
   "cell_type": "markdown",
   "metadata": {},
   "source": [
    "\n",
    "\n",
    "## 问题 9 \n",
    "\n",
    "> 给定一个n个物品的集合。物体的重量为$w_1, w_2，…、w_n$，物品的价值分别是$v_1、v_2、…v_n$。给你**两个**重量为 $c$ 的背包。如果你带了一个东西，它可以放在一个背包里，也可以放在另一个背包里，但不能同时放在两个背包里。所有权重和价值都是正整数。\n",
    "\n",
    "1. 设计一个时间复杂度为 $O(nc^2)$ 的动态规划算法，确定可以放入两个背包的物体的最大价值。分析算法设计思路，并基于python编程实现\n",
    "2. \\* 修改1中的算法，输出每个背包的内容（物品对应下标）。\n",
    "\n",
    "e.g.: \n",
    "\n",
    "输入 V=[1,3,2,5,8,7], W=[1,3,2,5,8,7], c=7, 输出：最大价值=14，背包装的物品为：[6] [4，3] （同一个背包中物品装入顺序对结果无影响）  \n"
   ]
  },
  {
   "cell_type": "markdown",
   "metadata": {},
   "source": [
    "idea：使用动态规划法，求给定物品在两个容量为 c 的背包中的最大价值。先初始化三维数组 dp 记录状态，dp[i][j][k] 表示考虑前 i 个物品、两背包容量分别为 j 和 k 时的最大价值。然后通过三重循环填充dp数组，对每个物品考虑不选、放入第一个背包、放入第二个背包三种情况并更新 dp。最后遍历 dp[n][j][k] 找出最大值作为结果。 "
   ]
  },
  {
   "cell_type": "code",
   "execution_count": 31,
   "metadata": {},
   "outputs": [
    {
     "name": "stdout",
     "output_type": "stream",
     "text": [
      "最大价值=14\n"
     ]
    }
   ],
   "source": [
    "# add your idea here\n",
    "# your algorithm time complexity is: O(nc^2)\n",
    "def two_knapsack(V, W, c):\n",
    "    n = len(V)  # 获取物品的数量\n",
    "    # 初始化三维DP表\n",
    "    dp = []\n",
    "    for i in range(n + 1):\n",
    "        # 对于每个 i，创建一个二维列表\n",
    "        row_ij = []\n",
    "        for j in range(c + 1):\n",
    "            # 对于每个 j，创建一个一维列表\n",
    "            row_jk = []\n",
    "            for k in range(c + 1):\n",
    "                # 每个元素初始化为 0\n",
    "                row_jk.append(0)\n",
    "            row_ij.append(row_jk)\n",
    "        dp.append(row_ij)\n",
    "\n",
    "    for i in range(1, n + 1):\n",
    "        w, v = W[i - 1], V[i - 1]\n",
    "        for j in range(c + 1):  # 遍历第一个背包的所有可能容量\n",
    "            for k in range(c + 1):  # 循环遍历第二个背包的所有可能容量\n",
    "                # 不选当前物品\n",
    "                dp[i][j][k] = dp[i - 1][j][k]\n",
    "\n",
    "                # 尝试放入第一个背包\n",
    "                if j >= w:\n",
    "                    dp[i][j][k] = max(dp[i][j][k], dp[i - 1][j - w][k] + v)\n",
    "\n",
    "                # 尝试放入第二个背包\n",
    "                if k >= w:\n",
    "                    dp[i][j][k] = max(dp[i][j][k], dp[i - 1][j][k - w] + v)\n",
    "\n",
    "    # 找出最大价值（两个背包重量不超过c的最大值）\n",
    "    max_value = 0\n",
    "    for j in range(c + 1):\n",
    "        for k in range(c + 1):\n",
    "            if dp[n][j][k] > max_value:\n",
    "                max_value = dp[n][j][k]\n",
    "\n",
    "    return max_value\n",
    "\n",
    "\n",
    "V = [1, 3, 2, 5, 8, 7]\n",
    "W = [1, 3, 2, 5, 8, 7]\n",
    "c = 7\n",
    "print(f\"最大价值={two_knapsack(V, W, c)}\")"
   ]
  },
  {
   "cell_type": "code",
   "execution_count": 29,
   "metadata": {},
   "outputs": [
    {
     "name": "stdout",
     "output_type": "stream",
     "text": [
      "最大价值=14\n",
      "背包装的物品为: [6],[3, 4]\n"
     ]
    }
   ],
   "source": [
    "# add your idea here\n",
    "# your algorithm time complexity is: O(nc^2)\n",
    "def two_knapsack(V, W, c):\n",
    "    n = len(V)\n",
    "    # 初始化三维DP表\n",
    "    dp = []\n",
    "    for i in range(n + 1):\n",
    "        row_ij = []\n",
    "        for j in range(c + 1):\n",
    "            row_jk = []\n",
    "            for k in range(c + 1):\n",
    "                row_jk.append(0)\n",
    "            row_ij.append(row_jk)\n",
    "        dp.append(row_ij)\n",
    "\n",
    "    for i in range(1, n + 1):\n",
    "        w, v = W[i - 1], V[i - 1]\n",
    "        for j in range(c + 1):\n",
    "            for k in range(c + 1):\n",
    "                # 不选当前物品\n",
    "                dp[i][j][k] = dp[i - 1][j][k]\n",
    "\n",
    "                # 尝试放入第一个背包\n",
    "                if j >= w:\n",
    "                    dp[i][j][k] = max(dp[i][j][k], dp[i - 1][j - w][k] + v)\n",
    "\n",
    "                # 尝试放入第二个背包\n",
    "                if k >= w:\n",
    "                    dp[i][j][k] = max(dp[i][j][k], dp[i - 1][j][k - w] + v)\n",
    "\n",
    "    # 找出最大价值\n",
    "    max_value = 0\n",
    "    max_j, max_k = 0, 0\n",
    "    for j in range(c + 1):\n",
    "        for k in range(c + 1):\n",
    "            if dp[n][j][k] > max_value:\n",
    "                max_value = dp[n][j][k]\n",
    "                max_j, max_k = j, k\n",
    "\n",
    "    # 回溯找出每个背包的内容\n",
    "    bag1 = []\n",
    "    bag2 = []\n",
    "    i, j, k = n, max_j, max_k\n",
    "    while i > 0:\n",
    "        if dp[i][j][k] != dp[i - 1][j][k]:  # 如果考虑当前物品时的最大价值和不考虑当前物品时不同，说明当前物品被放入了某个背包\n",
    "            if j >= W[i - 1] and dp[i][j][k] == dp[i - 1][j - W[i - 1]][k] + V[i - 1]:  # 判断当前物品是否放入了第一个背包\n",
    "                bag1.append(i)\n",
    "                j -= W[i - 1]  # 第一个背包剩余容量减去当前物品重量\n",
    "            elif k >= W[i - 1] and dp[i][j][k] == dp[i - 1][j][k - W[i - 1]] + V[i - 1]:\n",
    "                bag2.append(i)\n",
    "                k -= W[i - 1]\n",
    "        i -= 1\n",
    "\n",
    "    return max_value, sorted(bag1), sorted(bag2)\n",
    "\n",
    "\n",
    "# 示例\n",
    "V = [1, 3, 2, 5, 8, 7]\n",
    "W = [1, 3, 2, 5, 8, 7]\n",
    "c = 7\n",
    "max_value, bag1, bag2 = two_knapsack(V, W, c)\n",
    "print(f\"最大价值={max_value}\")\n",
    "print(f\"背包装的物品为: {bag1},{bag2}\")\n",
    "\n"
   ]
  },
  {
   "cell_type": "markdown",
   "metadata": {},
   "source": [
    "## 问题 10 \n",
    "\n",
    "> 给定两个字符串 $x[1..n]$ 和 $y[1..m]$，我们想通过以下操作将 $x$ 变换为 $y$ :\n",
    ">\n",
    "> **插入**：在 $x$ 中插入一个字符(在任何位置)；**删除**：从 $x$ 中删除一个字符(在任何位置)； **替换**：用另一个字符替换 $x$ 中的一个字符。\n",
    ">\n",
    "> 例如: $x = abcd$, $y = bcfe$，\n",
    ">\n",
    "> - 将 $x$ 转换为 $y$ 的一种可能方法是：1. 删除 $x$ 开头的 $a$, $x$变成 $bcd$； 2. 将 $x$ 中的字符 $d$ 替换为字符 $f$。$x$ 变成 $bcf$； 3. 在 $x$ 的末尾插入字符 $e$。$x$ 变成 $bcfe$。\n",
    ">\n",
    "> - 另一种可能的方法：1. 删除 $x$ 开头的 $a$,  $x$ 变成 $bcd$； 2. 在 $x$ 中字符 $d$ 之前插入字符 $f$。$x$ 变成 $bcfd$。3. 将 $x$ 中的字符 $d$ 替换为字符 $e$。$x$ 变成 $bcfe$。\n",
    "\n",
    "设计一个时间复杂度为 $O(mn)$ 的算法，返回将 $x$ 转换为 $y$ 所需的最少操作次数。分析算法设计思路，并基于python编程实现。\n"
   ]
  },
  {
   "cell_type": "markdown",
   "metadata": {},
   "source": [
    "idea：采用动态规划法，构建一个二维DP表，其中dp[i][j]表示将x的前i个字符转换为y的前j个字符的最小操作次数。当字符匹配时，直接继承左上方单元格的值；当字符不匹配时，考虑三种可能的操作（插入、删除、替换）并选择最小值加一。边界条件处理了空字符串转换的特殊情况，即完全通过插入或删除操作完成转换。"
   ]
  },
  {
   "cell_type": "code",
   "execution_count": 33,
   "metadata": {},
   "outputs": [
    {
     "name": "stdout",
     "output_type": "stream",
     "text": [
      "将 abcd 转换为 bcfe 的最小操作次数是: 3\n"
     ]
    }
   ],
   "source": [
    "# add your idea here\n",
    "# your algorithm time complexity is: O(mn)\n",
    "def min_edit_distance(x, y):\n",
    "    n = len(x)\n",
    "    m = len(y)\n",
    "\n",
    "    # 创建动态规划表\n",
    "    dp = [[0 for _ in range(m + 1)] for _ in range(n + 1)]\n",
    "\n",
    "    # 初始化\n",
    "    for i in range(n + 1):\n",
    "        dp[i][0] = i\n",
    "    for j in range(m + 1):\n",
    "        dp[0][j] = j\n",
    "\n",
    "    # 填充dp表\n",
    "    for i in range(1, n + 1):\n",
    "        for j in range(1, m + 1):\n",
    "            # 如果字符相同，不需要操作\n",
    "            if x[i - 1] == y[j - 1]:\n",
    "                dp[i][j] = dp[i - 1][j - 1]\n",
    "            else:\n",
    "                # 取三种操作中的最小值\n",
    "                dp[i][j] = 1 + min(\n",
    "                    dp[i - 1][j],  # 删除操作\n",
    "                    dp[i][j - 1],  # 插入操作\n",
    "                    dp[i - 1][j - 1]  # 替换操作\n",
    "                )\n",
    "\n",
    "    # 返回将x转换为y所需的最小操作次数\n",
    "    return dp[n][m]\n",
    "\n",
    "\n",
    "# 示例测试\n",
    "x = \"abcd\"\n",
    "y = \"bcfe\"\n",
    "print(f\"将 {x} 转换为 {y} 的最小操作次数是: {min_edit_distance(x, y)}\")"
   ]
  },
  {
   "cell_type": "code",
   "execution_count": null,
   "metadata": {},
   "outputs": [],
   "source": []
  }
 ],
 "metadata": {
  "kernelspec": {
   "display_name": "Python 3 (ipykernel)",
   "language": "python",
   "name": "python3"
  },
  "language_info": {
   "codemirror_mode": {
    "name": "ipython",
    "version": 3
   },
   "file_extension": ".py",
   "mimetype": "text/x-python",
   "name": "python",
   "nbconvert_exporter": "python",
   "pygments_lexer": "ipython3",
   "version": "3.12.4"
  }
 },
 "nbformat": 4,
 "nbformat_minor": 4
}
